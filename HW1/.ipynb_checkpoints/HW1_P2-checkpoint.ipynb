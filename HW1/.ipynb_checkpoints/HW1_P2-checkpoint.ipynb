{
 "cells": [
  {
   "cell_type": "code",
   "execution_count": 1,
   "metadata": {},
   "outputs": [],
   "source": [
    "import tensorflow as tf\n",
    "import numpy as np\n",
    "import pandas as pd\n",
    "from pandas import get_dummies\n",
    "import matplotlib.pyplot as plt\n",
    "from sklearn.model_selection import train_test_split"
   ]
  },
  {
   "cell_type": "markdown",
   "metadata": {},
   "source": [
    "<h1>Load data</h1>"
   ]
  },
  {
   "cell_type": "code",
   "execution_count": 2,
   "metadata": {},
   "outputs": [],
   "source": [
    "file_name = \"iris.data.csv\""
   ]
  },
  {
   "cell_type": "code",
   "execution_count": 3,
   "metadata": {},
   "outputs": [
    {
     "data": {
      "text/html": [
       "<div>\n",
       "<style scoped>\n",
       "    .dataframe tbody tr th:only-of-type {\n",
       "        vertical-align: middle;\n",
       "    }\n",
       "\n",
       "    .dataframe tbody tr th {\n",
       "        vertical-align: top;\n",
       "    }\n",
       "\n",
       "    .dataframe thead th {\n",
       "        text-align: right;\n",
       "    }\n",
       "</style>\n",
       "<table border=\"1\" class=\"dataframe\">\n",
       "  <thead>\n",
       "    <tr style=\"text-align: right;\">\n",
       "      <th></th>\n",
       "      <th>sepal_length</th>\n",
       "      <th>sepal_width</th>\n",
       "      <th>petal_length</th>\n",
       "      <th>petal_width</th>\n",
       "      <th>species</th>\n",
       "    </tr>\n",
       "  </thead>\n",
       "  <tbody>\n",
       "    <tr>\n",
       "      <th>0</th>\n",
       "      <td>5.1</td>\n",
       "      <td>3.5</td>\n",
       "      <td>1.4</td>\n",
       "      <td>0.2</td>\n",
       "      <td>Iris-setosa</td>\n",
       "    </tr>\n",
       "    <tr>\n",
       "      <th>1</th>\n",
       "      <td>4.9</td>\n",
       "      <td>3.0</td>\n",
       "      <td>1.4</td>\n",
       "      <td>0.2</td>\n",
       "      <td>Iris-setosa</td>\n",
       "    </tr>\n",
       "    <tr>\n",
       "      <th>2</th>\n",
       "      <td>4.7</td>\n",
       "      <td>3.2</td>\n",
       "      <td>1.3</td>\n",
       "      <td>0.2</td>\n",
       "      <td>Iris-setosa</td>\n",
       "    </tr>\n",
       "    <tr>\n",
       "      <th>3</th>\n",
       "      <td>4.6</td>\n",
       "      <td>3.1</td>\n",
       "      <td>1.5</td>\n",
       "      <td>0.2</td>\n",
       "      <td>Iris-setosa</td>\n",
       "    </tr>\n",
       "    <tr>\n",
       "      <th>4</th>\n",
       "      <td>5.0</td>\n",
       "      <td>3.6</td>\n",
       "      <td>1.4</td>\n",
       "      <td>0.2</td>\n",
       "      <td>Iris-setosa</td>\n",
       "    </tr>\n",
       "  </tbody>\n",
       "</table>\n",
       "</div>"
      ],
      "text/plain": [
       "   sepal_length  sepal_width  petal_length  petal_width      species\n",
       "0           5.1          3.5           1.4          0.2  Iris-setosa\n",
       "1           4.9          3.0           1.4          0.2  Iris-setosa\n",
       "2           4.7          3.2           1.3          0.2  Iris-setosa\n",
       "3           4.6          3.1           1.5          0.2  Iris-setosa\n",
       "4           5.0          3.6           1.4          0.2  Iris-setosa"
      ]
     },
     "execution_count": 3,
     "metadata": {},
     "output_type": "execute_result"
    }
   ],
   "source": [
    "#load the dataset into memory\n",
    "dataset = pd.read_csv(file_name,header=None,\\\n",
    "                      names=['sepal_length','sepal_width','petal_length','petal_width','species'])\n",
    "#check several examples of data\n",
    "dataset.head()"
   ]
  },
  {
   "cell_type": "markdown",
   "metadata": {},
   "source": [
    "<h1>Data preprocessing</h1>"
   ]
  },
  {
   "cell_type": "code",
   "execution_count": 4,
   "metadata": {},
   "outputs": [],
   "source": [
    "#simple function to process the data.\n",
    "\"\"\"\n",
    "input:\n",
    "    data: iris dataset\n",
    "    num_features: 2 => select only petal width and petal width.\n",
    "                  4 => select all features\n",
    "    flower: 'Iris-setosa' => labels of Iris-setosa will be 1 and others will be 0\n",
    "            'Iris-virginica' => labels of Iris-virginica will be 1 and others will be 0\n",
    "            'None' => use one-hot encoding to represent the labels\n",
    "\n",
    "return:\n",
    "    x: normalized & shuffled data\n",
    "    y: labels\n",
    "\"\"\"\n",
    "def data_preprocessing(data,num_features,flower=None):\n",
    "    if num_features==2:\n",
    "        features = data.columns[2:4]\n",
    "    else:\n",
    "        features = data.columns[0:4]\n",
    "    labels = dataset.columns[4]\n",
    "    print(features)\n",
    "    print(labels)\n",
    "    #normalize the data\n",
    "    data_norm = pd.DataFrame(data)\n",
    "    for feature in features:\n",
    "        data[feature] = (data[feature]-data[feature].mean())/data[feature].std()\n",
    "\n",
    "    #shuffle the data\n",
    "    indices = data_norm.index.tolist()\n",
    "    indices = np.array(indices)\n",
    "    np.random.shuffle(indices)\n",
    "    x = data_norm.reindex(indices)[features]\n",
    "    y = data_norm.reindex(indices)[labels]\n",
    "    if flower=='Iris-setosa':\n",
    "        for i in range(len(y)):\n",
    "            y[i]=1 if y[i]=='Iris-setosa' else 0\n",
    "        y = y.values.reshape(len(y),1)\n",
    "    elif flower=='Iris-virginica':\n",
    "        for i in range(len(y)):\n",
    "            y[i]=1 if y[i]=='Iris-virginica' else 0\n",
    "        y = y.values.reshape(len(y),1)\n",
    "    else:\n",
    "        y = get_dummies(y)\n",
    "    return x,y"
   ]
  },
  {
   "cell_type": "markdown",
   "metadata": {},
   "source": [
    "<h1>Part a:"
   ]
  },
  {
   "cell_type": "code",
   "execution_count": 5,
   "metadata": {},
   "outputs": [
    {
     "name": "stdout",
     "output_type": "stream",
     "text": [
      "Index(['petal_length', 'petal_width'], dtype='object')\n",
      "species\n"
     ]
    }
   ],
   "source": [
    "x_1,y_1 = data_preprocessing(dataset,2,flower='Iris-setosa')\n",
    "#generate traning and validation sets\n",
    "x_train_1, x_test_1, y_train_1, y_test_1 = train_test_split(x_1,y_1,test_size=0.3)"
   ]
  },
  {
   "cell_type": "code",
   "execution_count": 6,
   "metadata": {
    "scrolled": true
   },
   "outputs": [],
   "source": [
    "x_train_1 = x_train_1.values.astype('float32')\n",
    "x_test_1 = x_test_1.values.astype('float32')"
   ]
  },
  {
   "cell_type": "markdown",
   "metadata": {},
   "source": [
    "<h2>Define hyper-parameters</h2>"
   ]
  },
  {
   "cell_type": "code",
   "execution_count": 7,
   "metadata": {},
   "outputs": [],
   "source": [
    "#define number of training iterations\n",
    "NUM_ITER = 100\n",
    "#define learning rate\n",
    "lr = 0.01"
   ]
  },
  {
   "cell_type": "markdown",
   "metadata": {},
   "source": [
    "<h2>Define Placeholder and Variables</h2>"
   ]
  },
  {
   "cell_type": "code",
   "execution_count": 8,
   "metadata": {},
   "outputs": [
    {
     "name": "stdout",
     "output_type": "stream",
     "text": [
      "WARNING:tensorflow:From C:\\Users\\Jimin\\Anaconda3\\lib\\site-packages\\tensorflow\\python\\framework\\op_def_library.py:263: colocate_with (from tensorflow.python.framework.ops) is deprecated and will be removed in a future version.\n",
      "Instructions for updating:\n",
      "Colocations handled automatically by placer.\n"
     ]
    }
   ],
   "source": [
    "tf.reset_default_graph()\n",
    "\n",
    "#define the placeholder to feed the training data later\n",
    "X = tf.placeholder(tf.float32,shape=[105,2],name='X')\n",
    "Y = tf.placeholder(tf.float32,shape=[105,1],name='Y')\n",
    "\n",
    "#define the weights and initialized with random normal distribution\n",
    "W = tf.Variable(tf.random_normal([2,1]),tf.float32,name='W')\n",
    "#define the bias with zero initialization\n",
    "b = tf.Variable(tf.zeros([1,1]),tf.float32,name='b')"
   ]
  },
  {
   "cell_type": "markdown",
   "metadata": {},
   "source": [
    "<h2>Define update rule and accuracy</h2>"
   ]
  },
  {
   "cell_type": "code",
   "execution_count": 9,
   "metadata": {},
   "outputs": [],
   "source": [
    "#define the predicted output label, Tensorflow doesn't have step function, we use tf.round to do that\n",
    "Y_hat = tf.round(tf.sigmoid(tf.add(tf.matmul(X,W),b)))\n",
    "#the error between target and logit\n",
    "error = Y-Y_hat\n",
    "\n",
    "#weight and bias update rule w(t+1) = w(t) + learning_rate * error * x\n",
    "dW = tf.matmul(tf.transpose(X),error)\n",
    "db = tf.reduce_sum(error,0)\n",
    "W_ = W + lr*dW\n",
    "b_ = b + lr*db\n",
    "\n",
    "#group two operations together\n",
    "step = tf.group(W.assign(W_), b.assign(b_))"
   ]
  },
  {
   "cell_type": "markdown",
   "metadata": {},
   "source": [
    "<h2>Execute training</h2>"
   ]
  },
  {
   "cell_type": "code",
   "execution_count": 10,
   "metadata": {
    "scrolled": true
   },
   "outputs": [
    {
     "name": "stdout",
     "output_type": "stream",
     "text": [
      "Epoch = 0, train accuracy = 0.9333333333333333\n",
      "Epoch = 1, train accuracy = 0.9333333333333333\n",
      "Epoch = 2, train accuracy = 0.9333333333333333\n",
      "Epoch = 3, train accuracy = 0.9428571428571428\n",
      "Epoch = 4, train accuracy = 0.9523809523809523\n",
      "Epoch = 5, train accuracy = 0.9523809523809523\n",
      "Epoch = 6, train accuracy = 0.9523809523809523\n",
      "Epoch = 7, train accuracy = 0.9714285714285714\n",
      "Epoch = 8, train accuracy = 0.9904761904761905\n",
      "Epoch = 9, train accuracy = 0.9904761904761905\n",
      "Epoch = 10, train accuracy = 1.0\n",
      "Epoch = 11, train accuracy = 1.0\n",
      "Epoch = 12, train accuracy = 1.0\n",
      "Epoch = 13, train accuracy = 1.0\n",
      "Epoch = 14, train accuracy = 1.0\n",
      "Epoch = 15, train accuracy = 1.0\n",
      "Epoch = 16, train accuracy = 1.0\n",
      "Epoch = 17, train accuracy = 1.0\n",
      "Epoch = 18, train accuracy = 1.0\n",
      "Epoch = 19, train accuracy = 1.0\n",
      "Epoch = 20, train accuracy = 1.0\n",
      "Epoch = 21, train accuracy = 1.0\n",
      "Epoch = 22, train accuracy = 1.0\n",
      "Epoch = 23, train accuracy = 1.0\n",
      "Epoch = 24, train accuracy = 1.0\n",
      "Epoch = 25, train accuracy = 1.0\n",
      "Epoch = 26, train accuracy = 1.0\n",
      "Epoch = 27, train accuracy = 1.0\n",
      "Epoch = 28, train accuracy = 1.0\n",
      "Epoch = 29, train accuracy = 1.0\n",
      "Epoch = 30, train accuracy = 1.0\n",
      "Epoch = 31, train accuracy = 1.0\n",
      "Epoch = 32, train accuracy = 1.0\n",
      "Epoch = 33, train accuracy = 1.0\n",
      "Epoch = 34, train accuracy = 1.0\n",
      "Epoch = 35, train accuracy = 1.0\n",
      "Epoch = 36, train accuracy = 1.0\n",
      "Epoch = 37, train accuracy = 1.0\n",
      "Epoch = 38, train accuracy = 1.0\n",
      "Epoch = 39, train accuracy = 1.0\n",
      "Epoch = 40, train accuracy = 1.0\n",
      "Epoch = 41, train accuracy = 1.0\n",
      "Epoch = 42, train accuracy = 1.0\n",
      "Epoch = 43, train accuracy = 1.0\n",
      "Epoch = 44, train accuracy = 1.0\n",
      "Epoch = 45, train accuracy = 1.0\n",
      "Epoch = 46, train accuracy = 1.0\n",
      "Epoch = 47, train accuracy = 1.0\n",
      "Epoch = 48, train accuracy = 1.0\n",
      "Epoch = 49, train accuracy = 1.0\n",
      "Epoch = 50, train accuracy = 1.0\n",
      "Epoch = 51, train accuracy = 1.0\n",
      "Epoch = 52, train accuracy = 1.0\n",
      "Epoch = 53, train accuracy = 1.0\n",
      "Epoch = 54, train accuracy = 1.0\n",
      "Epoch = 55, train accuracy = 1.0\n",
      "Epoch = 56, train accuracy = 1.0\n",
      "Epoch = 57, train accuracy = 1.0\n",
      "Epoch = 58, train accuracy = 1.0\n",
      "Epoch = 59, train accuracy = 1.0\n",
      "Epoch = 60, train accuracy = 1.0\n",
      "Epoch = 61, train accuracy = 1.0\n",
      "Epoch = 62, train accuracy = 1.0\n",
      "Epoch = 63, train accuracy = 1.0\n",
      "Epoch = 64, train accuracy = 1.0\n",
      "Epoch = 65, train accuracy = 1.0\n",
      "Epoch = 66, train accuracy = 1.0\n",
      "Epoch = 67, train accuracy = 1.0\n",
      "Epoch = 68, train accuracy = 1.0\n",
      "Epoch = 69, train accuracy = 1.0\n",
      "Epoch = 70, train accuracy = 1.0\n",
      "Epoch = 71, train accuracy = 1.0\n",
      "Epoch = 72, train accuracy = 1.0\n",
      "Epoch = 73, train accuracy = 1.0\n",
      "Epoch = 74, train accuracy = 1.0\n",
      "Epoch = 75, train accuracy = 1.0\n",
      "Epoch = 76, train accuracy = 1.0\n",
      "Epoch = 77, train accuracy = 1.0\n",
      "Epoch = 78, train accuracy = 1.0\n",
      "Epoch = 79, train accuracy = 1.0\n",
      "Epoch = 80, train accuracy = 1.0\n",
      "Epoch = 81, train accuracy = 1.0\n",
      "Epoch = 82, train accuracy = 1.0\n",
      "Epoch = 83, train accuracy = 1.0\n",
      "Epoch = 84, train accuracy = 1.0\n",
      "Epoch = 85, train accuracy = 1.0\n",
      "Epoch = 86, train accuracy = 1.0\n",
      "Epoch = 87, train accuracy = 1.0\n",
      "Epoch = 88, train accuracy = 1.0\n",
      "Epoch = 89, train accuracy = 1.0\n",
      "Epoch = 90, train accuracy = 1.0\n",
      "Epoch = 91, train accuracy = 1.0\n",
      "Epoch = 92, train accuracy = 1.0\n",
      "Epoch = 93, train accuracy = 1.0\n",
      "Epoch = 94, train accuracy = 1.0\n",
      "Epoch = 95, train accuracy = 1.0\n",
      "Epoch = 96, train accuracy = 1.0\n",
      "Epoch = 97, train accuracy = 1.0\n",
      "Epoch = 98, train accuracy = 1.0\n",
      "Epoch = 99, train accuracy = 1.0\n",
      "test accuracy = 1.0\n"
     ]
    }
   ],
   "source": [
    "#initialize tensorflow variables\n",
    "init = tf.global_variables_initializer()\n",
    "\n",
    "train_accuracy_list = []\n",
    "\n",
    "#start tensorflow session\n",
    "with tf.Session() as sess:\n",
    "    #run initialization\n",
    "    sess.run(init)\n",
    "    #training for number of iterations\n",
    "    for i in range(NUM_ITER):\n",
    "        #every iteration we run optimization on the training data X and labels Y\n",
    "        sess.run(step,feed_dict = {X:x_train_1,Y:y_train_1})\n",
    "        output_train = sess.run(tf.round(tf.sigmoid(tf.add(tf.matmul(x_train_1,W),b))))\n",
    "        train_accuracy = np.sum(output_train == y_train_1)/len(y_train_1)\n",
    "        train_accuracy_list.append(train_accuracy)\n",
    "        print(\"Epoch = \" + str(i) + \", \" + \"train accuracy = \" + str(train_accuracy))\n",
    "    \n",
    "    #after training, we acquire the weight and bias\n",
    "    #np.squeeze plays a role to get rid of the redundant dimension [i.e.make (2,1) be (2,)]\n",
    "    \n",
    "    final_output_train = sess.run(tf.round(tf.sigmoid(tf.add(tf.matmul(x_train_1,W),b))))\n",
    "    final_output_test = sess.run(tf.round(tf.sigmoid(tf.add(tf.matmul(x_test_1,W),b))))\n",
    "    test_accuracy = np.sum(final_output_test == y_test_1)/len(y_test_1)\n",
    "    print(\"test accuracy = \" + str(test_accuracy))\n",
    "    \n",
    "    W = np.squeeze(sess.run(W))\n",
    "    b = np.squeeze(sess.run(b))\n",
    "    "
   ]
  },
  {
   "cell_type": "markdown",
   "metadata": {},
   "source": [
    "<h2>Plot</h2>"
   ]
  },
  {
   "cell_type": "markdown",
   "metadata": {},
   "source": [
    "<h3>Plotting of accuracy</h3>"
   ]
  },
  {
   "cell_type": "code",
   "execution_count": 11,
   "metadata": {},
   "outputs": [
    {
     "data": {
      "text/plain": [
       "Text(0, 0.5, 'Train Accuracy')"
      ]
     },
     "execution_count": 11,
     "metadata": {},
     "output_type": "execute_result"
    },
    {
     "data": {
      "image/png": "[encoded data removed]",
      "text/plain": [
       "<Figure size 720x360 with 1 Axes>"
      ]
     },
     "metadata": {
      "needs_background": "light"
     },
     "output_type": "display_data"
    }
   ],
   "source": [
    "fig = plt.figure(figsize=(10,5))\n",
    "plt.plot(train_accuracy_list, linewidth = 5)\n",
    "plt.xlabel('Epoch', fontsize = 15)\n",
    "plt.ylabel('Train Accuracy', fontsize = 15)"
   ]
  },
  {
   "cell_type": "markdown",
   "metadata": {},
   "source": [
    "<h3>Plotting of decision boundary</h3>"
   ]
  },
  {
   "cell_type": "code",
   "execution_count": 12,
   "metadata": {},
   "outputs": [
    {
     "data": {
      "image/png": "[encoded data removed]",
      "text/plain": [
       "<Figure size 432x288 with 1 Axes>"
      ]
     },
     "metadata": {
      "needs_background": "light"
     },
     "output_type": "display_data"
    }
   ],
   "source": [
    "#plot out the decision line determined by learned weight and bias\n",
    "import matplotlib.pyplot as plt\n",
    "plot_x = np.array([np.min(x_train_1[:, 0] - 0.2), np.max(x_train_1[:, 1] + 0.2)])\n",
    "plot_y = 1 / W[1] * (-W[0] * plot_x - b)\n",
    "\n",
    "plt.scatter(x_train_1[:, 0], x_train_1[:, 1], c=np.squeeze(y_train_1), s=30, cmap='viridis')\n",
    "plt.plot(plot_x, plot_y, color='k', linewidth=2)\n",
    "#plt.xlim([-0.2, 1.2]); plt.ylim([-0.2, 1.25]);\n",
    "plt.show()"
   ]
  },
  {
   "cell_type": "code",
   "execution_count": 13,
   "metadata": {},
   "outputs": [
    {
     "data": {
      "image/png": "[encoded data removed]",
      "text/plain": [
       "<Figure size 432x288 with 1 Axes>"
      ]
     },
     "metadata": {
      "needs_background": "light"
     },
     "output_type": "display_data"
    }
   ],
   "source": [
    "#plot out the decision line determined by learned weight and bias\n",
    "import matplotlib.pyplot as plt\n",
    "plot_x = np.array([np.min(x_test_1[:, 0] - 0.2), np.max(x_test_1[:, 1] + 0.2)])\n",
    "plot_y = 1 / W[1] * (-W[0] * plot_x - b)\n",
    "\n",
    "plt.scatter(x_test_1[:, 0], x_test_1[:, 1], c=np.squeeze(y_test_1), s=30, cmap='viridis')\n",
    "plt.plot(plot_x, plot_y, color='k', linewidth=2)\n",
    "#plt.xlim([-0.2, 1.2]); plt.ylim([-0.2, 1.25]);\n",
    "plt.show()"
   ]
  },
  {
   "cell_type": "markdown",
   "metadata": {},
   "source": [
    "<h3>The result show that unlike Virginica and Versicolor, Setosa petal width and length tend to cluster in negative domain, thus well separated from other two species. Such features make Setosa easily separable via linear decision boundary and thus achieve both high training and test accuracy</h3>"
   ]
  },
  {
   "cell_type": "markdown",
   "metadata": {},
   "source": [
    "<h1>Part b:</h1>"
   ]
  },
  {
   "cell_type": "code",
   "execution_count": 14,
   "metadata": {},
   "outputs": [
    {
     "name": "stdout",
     "output_type": "stream",
     "text": [
      "Index(['petal_length', 'petal_width'], dtype='object')\n",
      "species\n"
     ]
    }
   ],
   "source": [
    "x_2,y_2 = data_preprocessing(dataset,2,flower='Iris-virginica')\n",
    "#generate traning and validation sets\n",
    "x_train_2, x_test_2, y_train_2, y_test_2 = train_test_split(x_2,y_2,test_size=0.3)"
   ]
  },
  {
   "cell_type": "code",
   "execution_count": 15,
   "metadata": {},
   "outputs": [],
   "source": [
    "x_train_2 = x_train_2.values.astype('float32')\n",
    "x_test_2 = x_test_2.values.astype('float32')"
   ]
  },
  {
   "cell_type": "markdown",
   "metadata": {},
   "source": [
    "<h2>Define hyper-parameter</h2>"
   ]
  },
  {
   "cell_type": "code",
   "execution_count": 16,
   "metadata": {},
   "outputs": [],
   "source": [
    "#define number of training iterations\n",
    "NUM_ITER = 100\n",
    "#define learning rate\n",
    "lr = 0.01"
   ]
  },
  {
   "cell_type": "markdown",
   "metadata": {},
   "source": [
    "<h2>Define Placeholder and Variables</h2>"
   ]
  },
  {
   "cell_type": "code",
   "execution_count": 17,
   "metadata": {},
   "outputs": [],
   "source": [
    "tf.reset_default_graph()\n",
    "\n",
    "#define the placeholder to feed the training data later\n",
    "X = tf.placeholder(tf.float32,shape=[105,2],name='X')\n",
    "Y = tf.placeholder(tf.float32,shape=[105,1],name='Y')\n",
    "\n",
    "#define the weights and initialized with random normal distribution\n",
    "W = tf.Variable(tf.random_normal([2,1]),tf.float32,name='W')\n",
    "#define the bias with zero initialization\n",
    "b = tf.Variable(tf.zeros([1,1]),tf.float32,name='b')"
   ]
  },
  {
   "cell_type": "markdown",
   "metadata": {},
   "source": [
    "<h2>Define update rule and accuracy</h2>"
   ]
  },
  {
   "cell_type": "code",
   "execution_count": 18,
   "metadata": {},
   "outputs": [],
   "source": [
    "#define the predicted output label, Tensorflow doesn't have step function, we use tf.round to do that\n",
    "Y_hat = tf.round(tf.sigmoid(tf.add(tf.matmul(X,W),b)))\n",
    "#the error between target and logit\n",
    "error = Y-Y_hat\n",
    "\n",
    "#weight and bias update rule w(t+1) = w(t) + learning_rate * error * x\n",
    "dW = tf.matmul(tf.transpose(X),error)\n",
    "db = tf.reduce_sum(error,0)\n",
    "W_ = W + lr*dW\n",
    "b_ = b + lr*db\n",
    "\n",
    "#group two operations together\n",
    "step = tf.group(W.assign(W_), b.assign(b_))"
   ]
  },
  {
   "cell_type": "markdown",
   "metadata": {},
   "source": [
    "<h2>Execute training</h2>"
   ]
  },
  {
   "cell_type": "code",
   "execution_count": 19,
   "metadata": {
    "scrolled": true
   },
   "outputs": [
    {
     "name": "stdout",
     "output_type": "stream",
     "text": [
      "Epoch = 0, train accuracy = 0.6857142857142857\n",
      "Epoch = 1, train accuracy = 0.7523809523809524\n",
      "Epoch = 2, train accuracy = 0.7714285714285715\n",
      "Epoch = 3, train accuracy = 0.7904761904761904\n",
      "Epoch = 4, train accuracy = 0.8095238095238095\n",
      "Epoch = 5, train accuracy = 0.819047619047619\n",
      "Epoch = 6, train accuracy = 0.819047619047619\n",
      "Epoch = 7, train accuracy = 0.8380952380952381\n",
      "Epoch = 8, train accuracy = 0.8380952380952381\n",
      "Epoch = 9, train accuracy = 0.8476190476190476\n",
      "Epoch = 10, train accuracy = 0.8666666666666667\n",
      "Epoch = 11, train accuracy = 0.8666666666666667\n",
      "Epoch = 12, train accuracy = 0.8666666666666667\n",
      "Epoch = 13, train accuracy = 0.8761904761904762\n",
      "Epoch = 14, train accuracy = 0.8952380952380953\n",
      "Epoch = 15, train accuracy = 0.8952380952380953\n",
      "Epoch = 16, train accuracy = 0.9047619047619048\n",
      "Epoch = 17, train accuracy = 0.9047619047619048\n",
      "Epoch = 18, train accuracy = 0.9238095238095239\n",
      "Epoch = 19, train accuracy = 0.9238095238095239\n",
      "Epoch = 20, train accuracy = 0.9142857142857143\n",
      "Epoch = 21, train accuracy = 0.9238095238095239\n",
      "Epoch = 22, train accuracy = 0.9428571428571428\n",
      "Epoch = 23, train accuracy = 0.9238095238095239\n",
      "Epoch = 24, train accuracy = 0.9333333333333333\n",
      "Epoch = 25, train accuracy = 0.9428571428571428\n",
      "Epoch = 26, train accuracy = 0.9428571428571428\n",
      "Epoch = 27, train accuracy = 0.9428571428571428\n",
      "Epoch = 28, train accuracy = 0.9428571428571428\n",
      "Epoch = 29, train accuracy = 0.9428571428571428\n",
      "Epoch = 30, train accuracy = 0.9523809523809523\n",
      "Epoch = 31, train accuracy = 0.9428571428571428\n",
      "Epoch = 32, train accuracy = 0.9428571428571428\n",
      "Epoch = 33, train accuracy = 0.9428571428571428\n",
      "Epoch = 34, train accuracy = 0.9523809523809523\n",
      "Epoch = 35, train accuracy = 0.9428571428571428\n",
      "Epoch = 36, train accuracy = 0.9428571428571428\n",
      "Epoch = 37, train accuracy = 0.9428571428571428\n",
      "Epoch = 38, train accuracy = 0.9523809523809523\n",
      "Epoch = 39, train accuracy = 0.9428571428571428\n",
      "Epoch = 40, train accuracy = 0.9428571428571428\n",
      "Epoch = 41, train accuracy = 0.9428571428571428\n",
      "Epoch = 42, train accuracy = 0.9428571428571428\n",
      "Epoch = 43, train accuracy = 0.9523809523809523\n",
      "Epoch = 44, train accuracy = 0.9428571428571428\n",
      "Epoch = 45, train accuracy = 0.9428571428571428\n",
      "Epoch = 46, train accuracy = 0.9428571428571428\n",
      "Epoch = 47, train accuracy = 0.9523809523809523\n",
      "Epoch = 48, train accuracy = 0.9428571428571428\n",
      "Epoch = 49, train accuracy = 0.9428571428571428\n",
      "Epoch = 50, train accuracy = 0.9428571428571428\n",
      "Epoch = 51, train accuracy = 0.9428571428571428\n",
      "Epoch = 52, train accuracy = 0.9619047619047619\n",
      "Epoch = 53, train accuracy = 0.9523809523809523\n",
      "Epoch = 54, train accuracy = 0.9523809523809523\n",
      "Epoch = 55, train accuracy = 0.9619047619047619\n",
      "Epoch = 56, train accuracy = 0.9523809523809523\n",
      "Epoch = 57, train accuracy = 0.9523809523809523\n",
      "Epoch = 58, train accuracy = 0.9619047619047619\n",
      "Epoch = 59, train accuracy = 0.9523809523809523\n",
      "Epoch = 60, train accuracy = 0.9619047619047619\n",
      "Epoch = 61, train accuracy = 0.9619047619047619\n",
      "Epoch = 62, train accuracy = 0.9619047619047619\n",
      "Epoch = 63, train accuracy = 0.9619047619047619\n",
      "Epoch = 64, train accuracy = 0.9619047619047619\n",
      "Epoch = 65, train accuracy = 0.9619047619047619\n",
      "Epoch = 66, train accuracy = 0.9619047619047619\n",
      "Epoch = 67, train accuracy = 0.9619047619047619\n",
      "Epoch = 68, train accuracy = 0.9619047619047619\n",
      "Epoch = 69, train accuracy = 0.9619047619047619\n",
      "Epoch = 70, train accuracy = 0.9619047619047619\n",
      "Epoch = 71, train accuracy = 0.9619047619047619\n",
      "Epoch = 72, train accuracy = 0.9619047619047619\n",
      "Epoch = 73, train accuracy = 0.9619047619047619\n",
      "Epoch = 74, train accuracy = 0.9619047619047619\n",
      "Epoch = 75, train accuracy = 0.9619047619047619\n",
      "Epoch = 76, train accuracy = 0.9619047619047619\n",
      "Epoch = 77, train accuracy = 0.9619047619047619\n",
      "Epoch = 78, train accuracy = 0.9619047619047619\n",
      "Epoch = 79, train accuracy = 0.9619047619047619\n",
      "Epoch = 80, train accuracy = 0.9619047619047619\n",
      "Epoch = 81, train accuracy = 0.9619047619047619\n",
      "Epoch = 82, train accuracy = 0.9619047619047619\n",
      "Epoch = 83, train accuracy = 0.9619047619047619\n",
      "Epoch = 84, train accuracy = 0.9619047619047619\n",
      "Epoch = 85, train accuracy = 0.9619047619047619\n",
      "Epoch = 86, train accuracy = 0.9619047619047619\n",
      "Epoch = 87, train accuracy = 0.9619047619047619\n",
      "Epoch = 88, train accuracy = 0.9619047619047619\n",
      "Epoch = 89, train accuracy = 0.9619047619047619\n",
      "Epoch = 90, train accuracy = 0.9619047619047619\n",
      "Epoch = 91, train accuracy = 0.9619047619047619\n",
      "Epoch = 92, train accuracy = 0.9619047619047619\n",
      "Epoch = 93, train accuracy = 0.9619047619047619\n",
      "Epoch = 94, train accuracy = 0.9619047619047619\n",
      "Epoch = 95, train accuracy = 0.9619047619047619\n",
      "Epoch = 96, train accuracy = 0.9619047619047619\n",
      "Epoch = 97, train accuracy = 0.9619047619047619\n",
      "Epoch = 98, train accuracy = 0.9619047619047619\n",
      "Epoch = 99, train accuracy = 0.9619047619047619\n",
      "test accuracy = 0.9333333333333333\n"
     ]
    }
   ],
   "source": [
    "#initialize tensorflow variables\n",
    "init = tf.global_variables_initializer()\n",
    "\n",
    "train_accuracy_list = []\n",
    "\n",
    "#start tensorflow session\n",
    "with tf.Session() as sess:\n",
    "    #run initialization\n",
    "    sess.run(init)\n",
    "    #training for number of iterations\n",
    "    for i in range(NUM_ITER):\n",
    "        #every iteration we run optimization on the training data X and labels Y\n",
    "        sess.run(step,feed_dict = {X:x_train_2,Y:y_train_2})\n",
    "        output_train = sess.run(tf.round(tf.sigmoid(tf.add(tf.matmul(x_train_2,W),b))))\n",
    "        train_accuracy = np.sum(output_train == y_train_2)/len(y_train_2)\n",
    "        train_accuracy_list.append(train_accuracy)\n",
    "        print(\"Epoch = \" + str(i) + \", \" + \"train accuracy = \" + str(train_accuracy))\n",
    "    \n",
    "    #after training, we acquire the weight and bias\n",
    "    #np.squeeze plays a role to get rid of the redundant dimension [i.e.make (2,1) be (2,)]\n",
    "    \n",
    "    final_output_train = sess.run(tf.round(tf.sigmoid(tf.add(tf.matmul(x_train_2,W),b))))\n",
    "    final_output_test = sess.run(tf.round(tf.sigmoid(tf.add(tf.matmul(x_test_2,W),b))))\n",
    "    test_accuracy = np.sum(final_output_test == y_test_2)/len(y_test_2)\n",
    "    print(\"test accuracy = \" + str(test_accuracy))\n",
    "    \n",
    "    W = np.squeeze(sess.run(W))\n",
    "    b = np.squeeze(sess.run(b))\n",
    "    "
   ]
  },
  {
   "cell_type": "markdown",
   "metadata": {},
   "source": [
    "<h2>Plot</h2>"
   ]
  },
  {
   "cell_type": "markdown",
   "metadata": {},
   "source": [
    "<h3>Plotting of accuracy</h3>"
   ]
  },
  {
   "cell_type": "code",
   "execution_count": 20,
   "metadata": {},
   "outputs": [
    {
     "data": {
      "text/plain": [
       "Text(0, 0.5, 'Train Accuracy')"
      ]
     },
     "execution_count": 20,
     "metadata": {},
     "output_type": "execute_result"
    },
    {
     "data": {
      "image/png": "[encoded data removed]",
      "text/plain": [
       "<Figure size 720x360 with 1 Axes>"
      ]
     },
     "metadata": {
      "needs_background": "light"
     },
     "output_type": "display_data"
    }
   ],
   "source": [
    "fig = plt.figure(figsize=(10,5))\n",
    "plt.plot(train_accuracy_list, linewidth = 5)\n",
    "plt.xlabel('Epoch', fontsize = 15)\n",
    "plt.ylabel('Train Accuracy', fontsize = 15)"
   ]
  },
  {
   "cell_type": "markdown",
   "metadata": {},
   "source": [
    "<h3>Plotting of decision boundary</h3>"
   ]
  },
  {
   "cell_type": "code",
   "execution_count": 21,
   "metadata": {},
   "outputs": [
    {
     "data": {
      "image/png": "[encoded data removed]",
      "text/plain": [
       "<Figure size 432x288 with 1 Axes>"
      ]
     },
     "metadata": {
      "needs_background": "light"
     },
     "output_type": "display_data"
    }
   ],
   "source": [
    "#plot out the decision line determined by learned weight and bias\n",
    "import matplotlib.pyplot as plt\n",
    "plot_x = np.array([np.min(x_train_1[:, 0] - 0.2), np.max(x_train_2[:, 1] + 0.2)])\n",
    "plot_y = 1 / W[1] * (-W[0] * plot_x - b)\n",
    "\n",
    "plt.scatter(x_train_2[:, 0], x_train_2[:, 1], c=np.squeeze(y_train_2), s=30, cmap='viridis')\n",
    "plt.plot(plot_x, plot_y, color='k', linewidth=2)\n",
    "#plt.xlim([-0.2, 1.2]); plt.ylim([-0.2, 1.25]);\n",
    "plt.show()"
   ]
  },
  {
   "cell_type": "code",
   "execution_count": 22,
   "metadata": {},
   "outputs": [
    {
     "data": {
      "image/png": "[encoded data removed]",
      "text/plain": [
       "<Figure size 432x288 with 1 Axes>"
      ]
     },
     "metadata": {
      "needs_background": "light"
     },
     "output_type": "display_data"
    }
   ],
   "source": [
    "#plot out the decision line determined by learned weight and bias\n",
    "import matplotlib.pyplot as plt\n",
    "plot_x = np.array([np.min(x_test_2[:, 0] - 0.2), np.max(x_test_2[:, 1] + 0.2)])\n",
    "plot_y = 1 / W[1] * (-W[0] * plot_x - b)\n",
    "\n",
    "plt.scatter(x_test_2[:, 0], x_test_2[:, 1], c=np.squeeze(y_test_2), s=30, cmap='viridis')\n",
    "plt.plot(plot_x, plot_y, color='k', linewidth=2)\n",
    "#plt.xlim([-0.2, 1.2]); plt.ylim([-0.2, 1.25]);\n",
    "plt.show()"
   ]
  },
  {
   "cell_type": "markdown",
   "metadata": {},
   "source": [
    "<h3>The result show that Virginica has similar petal and sepal length features with Versicolor, thus making it more difficult to separate via lienar decision boundary. This is reflected on slightly lower/more fluctuating training accuracy as well as test accuracy compared to Setosa and non-Setosa classification </h3>"
   ]
  },
  {
   "cell_type": "markdown",
   "metadata": {},
   "source": [
    "<h1>Part c:</h1>"
   ]
  },
  {
   "cell_type": "code",
   "execution_count": 23,
   "metadata": {},
   "outputs": [
    {
     "name": "stdout",
     "output_type": "stream",
     "text": [
      "Index(['sepal_length', 'sepal_width', 'petal_length', 'petal_width'], dtype='object')\n",
      "species\n"
     ]
    }
   ],
   "source": [
    "x_3,y_3 = data_preprocessing(dataset,4)\n",
    "#generate traning and validation sets\n",
    "x_train_3, x_test_3, y_train_3, y_test_3 = train_test_split(x_3,y_3,test_size=0.3)"
   ]
  },
  {
   "cell_type": "code",
   "execution_count": 24,
   "metadata": {},
   "outputs": [],
   "source": [
    "x_train_3 = x_train_3.values.astype('float32')\n",
    "x_test_3 = x_test_3.values.astype('float32')\n",
    "y_train_3 = y_train_3.values.astype('float32')\n",
    "y_test_3 = y_test_3.values.astype('float32')"
   ]
  },
  {
   "cell_type": "markdown",
   "metadata": {},
   "source": [
    "<h2>Define hyper-parameters</h2>"
   ]
  },
  {
   "cell_type": "code",
   "execution_count": 25,
   "metadata": {},
   "outputs": [],
   "source": [
    "#learning rate\n",
    "lr = 0.01\n",
    "#number of traning steps\n",
    "num_steps = 5000\n",
    "#number of batch_size\n",
    "\n",
    "#network parameters\n",
    "n_hidden_1 = 256\n",
    "n_hidden_2 = 128\n",
    "num_input = 4\n",
    "num_classes = 3"
   ]
  },
  {
   "cell_type": "markdown",
   "metadata": {},
   "source": [
    "<h2>Define placehoder and variables</h2>"
   ]
  },
  {
   "cell_type": "code",
   "execution_count": 26,
   "metadata": {},
   "outputs": [],
   "source": [
    "tf.reset_default_graph()\n",
    "\n",
    "#tf graph input\n",
    "X = tf.placeholder(tf.float32,[105,4],name='X')\n",
    "Y = tf.placeholder(tf.int32,[105,3],name='Y')\n",
    "X_test = tf.placeholder(tf.float32,[45,4],name='X_test')\n",
    "Y_test = tf.placeholder(tf.float32,[45,3],name='Y_test')\n",
    "\n",
    "#Layers weight & bias\n",
    "weights = {\n",
    "    'W1': tf.Variable(tf.random_normal([num_input, n_hidden_1]),name='W1'),\n",
    "    'W2': tf.Variable(tf.random_normal([n_hidden_1, n_hidden_2]),name='W2'),\n",
    "    'Wout': tf.Variable(tf.random_normal([n_hidden_2, num_classes]),name='Wout')\n",
    "}\n",
    "\n",
    "biases = {\n",
    "    'b1': tf.Variable(tf.zeros(shape=[n_hidden_1]),name='b1'),\n",
    "    'b2': tf.Variable(tf.zeros(shape=[n_hidden_2]),name='b2'),\n",
    "    'bout': tf.Variable(tf.zeros(shape=[num_classes]),name='bout')\n",
    "}"
   ]
  },
  {
   "cell_type": "markdown",
   "metadata": {},
   "source": [
    "<h2>Define the neural network</h2>"
   ]
  },
  {
   "cell_type": "code",
   "execution_count": 27,
   "metadata": {},
   "outputs": [],
   "source": [
    "#define a neural net model\n",
    "def neural_net(x, weights, biases):\n",
    "    layer_1_out = tf.nn.relu(tf.add(tf.matmul(x,weights['W1']),biases['b1']))\n",
    "    layer_2_out = tf.nn.relu(tf.add(tf.matmul(layer_1_out,weights['W2']),biases['b2']))\n",
    "    out = tf.add(tf.matmul(layer_2_out,weights['Wout']),biases['bout'])\n",
    "    return out"
   ]
  },
  {
   "cell_type": "markdown",
   "metadata": {},
   "source": [
    "<h2>Define cost function and accuracy</h2>"
   ]
  },
  {
   "cell_type": "code",
   "execution_count": 28,
   "metadata": {},
   "outputs": [],
   "source": [
    "#predicted labels\n",
    "logits = neural_net(X, weights, biases)\n",
    "logits_test = neural_net(X_test, weights, biases)\n",
    "\n",
    "#define loss\n",
    "loss = tf.reduce_mean(tf.nn.softmax_cross_entropy_with_logits_v2(logits=logits,labels=Y),name='loss')\n",
    "#define optimizer\n",
    "optimizer = tf.train.GradientDescentOptimizer(learning_rate=lr)\n",
    "train_op = optimizer.minimize(loss)\n",
    "\n",
    "#compare the predicted labels with true labels\n",
    "correct_pred = tf.equal(tf.argmax(logits,1),tf.argmax(Y,1))\n",
    "correct_pred_test = tf.equal(tf.argmax(logits_test,1),tf.argmax(Y_test,1))\n",
    "\n",
    "#compute the accuracy by taking average\n",
    "accuracy = tf.reduce_mean(tf.cast(correct_pred,tf.float32),name='accuracy')\n",
    "accuracy_test = tf.reduce_mean(tf.cast(correct_pred_test,tf.float32),name='accuracy_test')\n",
    "\n",
    "#Initialize the variables\n",
    "init = tf.global_variables_initializer()"
   ]
  },
  {
   "cell_type": "markdown",
   "metadata": {},
   "source": [
    "<h2>Execute training</h2>"
   ]
  },
  {
   "cell_type": "code",
   "execution_count": 29,
   "metadata": {
    "scrolled": false
   },
   "outputs": [
    {
     "name": "stdout",
     "output_type": "stream",
     "text": [
      "step 0, Accuracy= 0.667\n",
      "step 1000, Accuracy= 1.000\n",
      "step 2000, Accuracy= 1.000\n",
      "step 3000, Accuracy= 1.000\n",
      "step 4000, Accuracy= 1.000\n",
      "test accuracy = 0.95555556\n"
     ]
    }
   ],
   "source": [
    "acc_list = []\n",
    "loss_list = []\n",
    "\n",
    "with tf.Session() as sess:\n",
    "    sess.run(init)\n",
    "    \n",
    "    for i in range(num_steps):\n",
    "        #every iteration we run optimization on the training data X and labels Y\n",
    "        sess.run([loss, train_op], feed_dict = {X:x_train_3,Y:y_train_3})\n",
    "        \n",
    "        if i % 1000 == 0:\n",
    "            L = sess.run(loss, feed_dict={X:x_train_3,Y:y_train_3})\n",
    "            loss_list.append(L)\n",
    "            acc = sess.run(accuracy,feed_dict={X:x_train_3, Y:y_train_3})\n",
    "            acc_list.append(acc)\n",
    "            print(\"step \"+str(i)+\", Accuracy= {:.3f}\".format(acc))\n",
    "            \n",
    "    final_output_train = sess.run(tf.nn.softmax(neural_net(x_train_3, weights, biases)))\n",
    "    final_output_test = sess.run(tf.nn.softmax(neural_net(x_test_3, weights, biases)))\n",
    "    test_accuracy = sess.run(accuracy_test,feed_dict={X_test:x_test_3, Y_test:y_test_3})\n",
    "    print(\"test accuracy = \" + str(test_accuracy))\n",
    "    \n",
    "    #after training, we acquire the weight and bias\n",
    "    #np.squeeze plays a role to get rid of the redundant dimension [i.e.make (2,1) be (2,)]\n",
    "    W1 = np.squeeze(sess.run(weights['W1']))\n",
    "    W2 = np.squeeze(sess.run(weights['W2']))\n",
    "    Wout = np.squeeze(sess.run(weights['Wout']))\n",
    "    b1 = np.squeeze(sess.run(biases['b1']))\n",
    "    b2 = np.squeeze(sess.run(biases['b2']))\n",
    "    bout = np.squeeze(sess.run(biases['bout']))"
   ]
  },
  {
   "cell_type": "markdown",
   "metadata": {},
   "source": [
    "<h2>Plot</h2>"
   ]
  },
  {
   "cell_type": "code",
   "execution_count": 30,
   "metadata": {},
   "outputs": [
    {
     "data": {
      "text/plain": [
       "Text(0, 0.5, 'Training Accuracy')"
      ]
     },
     "execution_count": 30,
     "metadata": {},
     "output_type": "execute_result"
    },
    {
     "data": {
      "image/png": "[encoded data removed]",
      "text/plain": [
       "<Figure size 720x360 with 1 Axes>"
      ]
     },
     "metadata": {
      "needs_background": "light"
     },
     "output_type": "display_data"
    }
   ],
   "source": [
    "fig = plt.figure(figsize=(10,5))\n",
    "plt.plot(acc_list, linewidth = 5)\n",
    "plt.xlabel('Epoch', fontsize = 15)\n",
    "plt.ylabel('Training Accuracy', fontsize = 15)"
   ]
  }
 ],
 "metadata": {
  "kernelspec": {
   "display_name": "Python 3",
   "language": "python",
   "name": "python3"
  },
  "language_info": {
   "codemirror_mode": {
    "name": "ipython",
    "version": 3
   },
   "file_extension": ".py",
   "mimetype": "text/x-python",
   "name": "python",
   "nbconvert_exporter": "python",
   "pygments_lexer": "ipython3",
   "version": "3.7.1"
  }
 },
 "nbformat": 4,
 "nbformat_minor": 2
}
