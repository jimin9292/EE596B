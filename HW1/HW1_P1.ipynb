{
 "cells": [
  {
   "cell_type": "code",
   "execution_count": 1,
   "metadata": {},
   "outputs": [],
   "source": [
    "from IPython.core.display import display, HTML\n",
    "display(HTML(\"<style>.container { width:100% !important; }</style>\"))"
   ]
  },
  {
   "cell_type": "code",
   "execution_count": 2,
   "metadata": {},
   "outputs": [],
   "source": [
    "%matplotlib inline\n",
    "import tensorflow as tf\n",
    "import numpy as np\n",
    "import matplotlib.pyplot as plt"
   ]
  },
  {
   "cell_type": "markdown",
   "metadata": {},
   "source": [
    "<h2>Define Hyper-parameters</h2>"
   ]
  },
  {
   "cell_type": "code",
   "execution_count": 3,
   "metadata": {},
   "outputs": [],
   "source": [
    "#define number of training iterations\n",
    "NUM_ITER = 25000\n",
    "#define learning rate\n",
    "lr = 0.01"
   ]
  },
  {
   "cell_type": "markdown",
   "metadata": {},
   "source": [
    "<h2>Define your input data and expected labels</h2>"
   ]
  },
  {
   "cell_type": "code",
   "execution_count": 4,
   "metadata": {},
   "outputs": [],
   "source": [
    "#define the training input data\n",
    "x = np.array([[0,0],[1,0],[0,1],[1,1]],np.float32)\n",
    "#define the target outputs/labels for AND gate\n",
    "y = np.array([0,1,1,0],np.float32)\n",
    "#y = np.array([0,1,1,1],np.float32)       (uncomment this line if you are doing OR gate)\n",
    "y = np.reshape(y,[4,1])"
   ]
  },
  {
   "cell_type": "markdown",
   "metadata": {},
   "source": [
    "<h2>Reset the graph before you re-train your neural net</h2>"
   ]
  },
  {
   "cell_type": "code",
   "execution_count": 5,
   "metadata": {},
   "outputs": [],
   "source": [
    "#remember to reset the graph\n",
    "tf.reset_default_graph()"
   ]
  },
  {
   "cell_type": "markdown",
   "metadata": {},
   "source": [
    "<h2>Define placeholder and Variables</h2>"
   ]
  },
  {
   "cell_type": "code",
   "execution_count": 6,
   "metadata": {},
   "outputs": [],
   "source": [
    "#define the placeholder to feed the training data later\n",
    "X = tf.placeholder(tf.float32,shape=[4,2],name='X')\n",
    "Y = tf.placeholder(tf.float32,shape=[4,1],name='Y')"
   ]
  },
  {
   "cell_type": "markdown",
   "metadata": {},
   "source": [
    "<h2>Define training variables:</h2>"
   ]
  },
  {
   "cell_type": "code",
   "execution_count": 7,
   "metadata": {},
   "outputs": [
    {
     "name": "stdout",
     "output_type": "stream",
     "text": [
      "WARNING:tensorflow:From C:\\Users\\Jimin\\Anaconda3\\lib\\site-packages\\tensorflow\\python\\framework\\op_def_library.py:263: colocate_with (from tensorflow.python.framework.ops) is deprecated and will be removed in a future version.\n",
      "Instructions for updating:\n",
      "Colocations handled automatically by placer.\n"
     ]
    }
   ],
   "source": [
    "#Layers weight & bias\n",
    "weights = {\n",
    "    'W1': tf.Variable(tf.random_normal([2, 2]),name='W1'),\n",
    "    'Wout': tf.Variable(tf.random_normal([2, 1]),name='Wout')\n",
    "}\n",
    "\n",
    "biases = {\n",
    "    'b1': tf.Variable(tf.zeros(shape=[2]),name='b1'),\n",
    "    'bout': tf.Variable(tf.zeros(shape=[1]),name='bout')\n",
    "}"
   ]
  },
  {
   "cell_type": "markdown",
   "metadata": {},
   "source": [
    "<h2>Define the neural network</h2>"
   ]
  },
  {
   "cell_type": "code",
   "execution_count": 8,
   "metadata": {},
   "outputs": [],
   "source": [
    "#define a neural net model\n",
    "def neural_net(x, weights, biases):\n",
    "    layer_1_out = tf.nn.sigmoid(tf.add(tf.matmul(x,weights['W1']),biases['b1']))\n",
    "    out = tf.add(tf.matmul(layer_1_out,weights['Wout']),biases['bout'])\n",
    "    return out"
   ]
  },
  {
   "cell_type": "markdown",
   "metadata": {},
   "source": [
    "<h2>Define cost function</h2>"
   ]
  },
  {
   "cell_type": "code",
   "execution_count": 9,
   "metadata": {},
   "outputs": [],
   "source": [
    "#predicted labels\n",
    "logits = neural_net(X, weights, biases)\n",
    "\n",
    "#define loss\n",
    "loss = tf.reduce_sum(tf.nn.sigmoid_cross_entropy_with_logits(logits=logits, labels=Y))\n",
    "#define optimizer\n",
    "optimizer = tf.train.GradientDescentOptimizer(learning_rate=lr)\n",
    "train_op = optimizer.minimize(loss)\n",
    "\n",
    "#Initialize the variables\n",
    "init = tf.global_variables_initializer()"
   ]
  },
  {
   "cell_type": "markdown",
   "metadata": {},
   "source": []
  },
  {
   "cell_type": "markdown",
   "metadata": {},
   "source": [
    "<h2>Execute training</h2>"
   ]
  },
  {
   "cell_type": "code",
   "execution_count": 10,
   "metadata": {
    "scrolled": true
   },
   "outputs": [
    {
     "name": "stdout",
     "output_type": "stream",
     "text": [
      "Epoch = 0, Loss = 3.1945767\n",
      "Epoch = 1000, Loss = 2.7286813\n",
      "Epoch = 2000, Loss = 2.5934358\n",
      "Epoch = 3000, Loss = 2.351653\n",
      "Epoch = 4000, Loss = 1.9635003\n",
      "Epoch = 5000, Loss = 1.3430523\n",
      "Epoch = 6000, Loss = 0.8029243\n",
      "Epoch = 7000, Loss = 0.51412576\n",
      "Epoch = 8000, Loss = 0.3633487\n",
      "Epoch = 9000, Loss = 0.2762159\n",
      "Epoch = 10000, Loss = 0.2208903\n",
      "Epoch = 11000, Loss = 0.18313451\n",
      "Epoch = 12000, Loss = 0.15592778\n",
      "Epoch = 13000, Loss = 0.1354858\n",
      "Epoch = 14000, Loss = 0.11961371\n",
      "Epoch = 15000, Loss = 0.10696082\n",
      "Epoch = 16000, Loss = 0.09665454\n",
      "Epoch = 17000, Loss = 0.088107765\n",
      "Epoch = 18000, Loss = 0.08091176\n",
      "Epoch = 19000, Loss = 0.074774556\n",
      "Epoch = 20000, Loss = 0.0694815\n",
      "Epoch = 21000, Loss = 0.06487203\n",
      "Epoch = 22000, Loss = 0.060823213\n",
      "Epoch = 23000, Loss = 0.05723981\n",
      "Epoch = 24000, Loss = 0.054047067\n"
     ]
    }
   ],
   "source": [
    "loss_list = []\n",
    "\n",
    "with tf.Session() as sess:\n",
    "    sess.run(init)\n",
    "    \n",
    "    for i in range(NUM_ITER):\n",
    "        #every iteration we run optimization on the training data X and labels Y\n",
    "        sess.run([loss, train_op], feed_dict = {X:x,Y:y})\n",
    "        \n",
    "        if i % 1000 == 0:\n",
    "            L = sess.run(loss, feed_dict={X:x,Y:y})\n",
    "            loss_list.append(L)\n",
    "            print(\"Epoch = \" + str(i) + \", \" + \"Loss = \" + str(L))\n",
    "            #print(sess.run(tf.abs(tf.reduce_sum(y - tf.sigmoid(neural_net(x, weights, biases))))))\n",
    "    \n",
    "    #after training, we acquire the weight and bias\n",
    "    #np.squeeze plays a role to get rid of the redundant dimension [i.e.make (2,1) be (2,)]\n",
    "    W1 = np.squeeze(sess.run(weights['W1']))\n",
    "    Wout = np.squeeze(sess.run(weights['Wout']))\n",
    "    b1 = np.squeeze(sess.run(biases['b1']))\n",
    "    bout = np.squeeze(sess.run(biases['bout']))\n",
    "    \n",
    "    final_output = sess.run(tf.sigmoid(neural_net(x, weights, biases)))"
   ]
  },
  {
   "cell_type": "markdown",
   "metadata": {},
   "source": [
    "<h3>Output for each input state in final step</h3>"
   ]
  },
  {
   "cell_type": "code",
   "execution_count": 11,
   "metadata": {},
   "outputs": [
    {
     "data": {
      "text/plain": [
       "(array([[0., 0.],\n",
       "        [1., 0.],\n",
       "        [0., 1.],\n",
       "        [1., 1.]], dtype=float32), array([[0.01236337],\n",
       "        [0.98308265],\n",
       "        [0.9889431 ],\n",
       "        [0.01051101]], dtype=float32), array([[0.],\n",
       "        [1.],\n",
       "        [1.],\n",
       "        [0.]], dtype=float32))"
      ]
     },
     "execution_count": 11,
     "metadata": {},
     "output_type": "execute_result"
    }
   ],
   "source": [
    "x, final_output, y"
   ]
  },
  {
   "cell_type": "markdown",
   "metadata": {},
   "source": [
    "<h2>Plot</h2>"
   ]
  },
  {
   "cell_type": "markdown",
   "metadata": {},
   "source": [
    "<h3>Plotting of the Loss</h3>"
   ]
  },
  {
   "cell_type": "code",
   "execution_count": 12,
   "metadata": {},
   "outputs": [
    {
     "data": {
      "text/plain": [
       "Text(0, 0.5, 'Loss')"
      ]
     },
     "execution_count": 12,
     "metadata": {},
     "output_type": "execute_result"
    },
    {
     "data": {
      "image/png": "[encoded data removed]",
      "text/plain": [
       "<Figure size 720x360 with 1 Axes>"
      ]
     },
     "metadata": {
      "needs_background": "light"
     },
     "output_type": "display_data"
    }
   ],
   "source": [
    "fig = plt.figure(figsize=(10,5))\n",
    "plt.plot(loss_list, linewidth = 5)\n",
    "plt.xlabel('Epoch', fontsize = 15)\n",
    "plt.ylabel('Loss', fontsize = 15)"
   ]
  },
  {
   "cell_type": "markdown",
   "metadata": {},
   "source": [
    "<h3>Plotting of the Decision Boundary</h3>"
   ]
  },
  {
   "cell_type": "code",
   "execution_count": 13,
   "metadata": {},
   "outputs": [
    {
     "data": {
      "image/png": "[encoded data removed]",
      "text/plain": [
       "<Figure size 432x288 with 1 Axes>"
      ]
     },
     "metadata": {
      "needs_background": "light"
     },
     "output_type": "display_data"
    }
   ],
   "source": [
    "#plot out the decision line determined by learned weight and bias\n",
    "plot_x = np.array([np.min(x[:, 0] - 0.2), np.max(x[:, 1]+0.2)])\n",
    "plot_y1 = 1 / W1[1, 0] * (-W1[0, 0] * plot_x - b1[0])\n",
    "plot_y2 = 1 / W1[1, 1] * (-W1[0, 1] * plot_x - b1[1])\n",
    "\n",
    "plt.scatter(x[:, 0], x[:, 1], c=np.squeeze(y), s=100, cmap='viridis')\n",
    "plt.plot(plot_x, plot_y1, color='k', linewidth=2)\n",
    "plt.plot(plot_x, plot_y2, color='k', linewidth=2)\n",
    "plt.xlim([-0.2, 1.2]); plt.ylim([-0.2, 1.25]);\n",
    "plt.show()"
   ]
  }
 ],
 "metadata": {
  "kernelspec": {
   "display_name": "Python 3",
   "language": "python",
   "name": "python3"
  },
  "language_info": {
   "codemirror_mode": {
    "name": "ipython",
    "version": 3
   },
   "file_extension": ".py",
   "mimetype": "text/x-python",
   "name": "python",
   "nbconvert_exporter": "python",
   "pygments_lexer": "ipython3",
   "version": "3.7.1"
  }
 },
 "nbformat": 4,
 "nbformat_minor": 2
}
