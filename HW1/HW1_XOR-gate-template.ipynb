{
 "cells": [
  {
   "cell_type": "code",
   "execution_count": 1,
   "metadata": {},
   "outputs": [],
   "source": [
    "from IPython.core.display import display, HTML\n",
    "display(HTML(\"<style>.container { width:100% !important; }</style>\"))"
   ]
  },
  {
   "cell_type": "code",
   "execution_count": 2,
   "metadata": {},
   "outputs": [],
   "source": [
    "import tensorflow as tf\n",
    "import numpy as np\n",
    "import matplotlib.pyplot as plt"
   ]
  },
  {
   "cell_type": "markdown",
   "metadata": {},
   "source": [
    "<h2>Define Hyper-parameters</h2>"
   ]
  },
  {
   "cell_type": "code",
   "execution_count": 3,
   "metadata": {},
   "outputs": [],
   "source": [
    "#define number of training iterations\n",
    "NUM_ITER = 25000\n",
    "#define learning rate\n",
    "lr = 0.01"
   ]
  },
  {
   "cell_type": "markdown",
   "metadata": {},
   "source": [
    "<h2>Define your input data and expected labels</h2>"
   ]
  },
  {
   "cell_type": "code",
   "execution_count": 4,
   "metadata": {},
   "outputs": [],
   "source": [
    "#define the training input data\n",
    "x = np.array([[0,0],[1,0],[0,1],[1,1]],np.float32)\n",
    "#define the target outputs/labels for AND gate\n",
    "y = np.array([0,1,1,0],np.float32)\n",
    "#y = np.array([0,1,1,1],np.float32)       (uncomment this line if you are doing OR gate)\n",
    "y = np.reshape(y,[4,1])"
   ]
  },
  {
   "cell_type": "markdown",
   "metadata": {},
   "source": [
    "<h2>Reset the graph before you re-train your neural net</h2>"
   ]
  },
  {
   "cell_type": "code",
   "execution_count": 5,
   "metadata": {},
   "outputs": [],
   "source": [
    "#remember to reset the graph\n",
    "tf.reset_default_graph()"
   ]
  },
  {
   "cell_type": "markdown",
   "metadata": {},
   "source": [
    "<h2>Define placeholder and Variables</h2>"
   ]
  },
  {
   "cell_type": "code",
   "execution_count": 6,
   "metadata": {},
   "outputs": [],
   "source": [
    "#define the placeholder to feed the training data later\n",
    "X = tf.placeholder(tf.float32,shape=[4,2],name='X')\n",
    "Y = tf.placeholder(tf.float32,shape=[4,1],name='Y')"
   ]
  },
  {
   "cell_type": "markdown",
   "metadata": {},
   "source": [
    "<h2>Define training variables:</h2>"
   ]
  },
  {
   "cell_type": "code",
   "execution_count": 7,
   "metadata": {},
   "outputs": [
    {
     "name": "stdout",
     "output_type": "stream",
     "text": [
      "WARNING:tensorflow:From C:\\Users\\Jimin\\Anaconda3\\lib\\site-packages\\tensorflow\\python\\framework\\op_def_library.py:263: colocate_with (from tensorflow.python.framework.ops) is deprecated and will be removed in a future version.\n",
      "Instructions for updating:\n",
      "Colocations handled automatically by placer.\n"
     ]
    }
   ],
   "source": [
    "#Layers weight & bias\n",
    "weights = {\n",
    "    'W1': tf.Variable(tf.random_normal([2, 2]),name='W1'),\n",
    "    'Wout': tf.Variable(tf.random_normal([2, 1]),name='Wout')\n",
    "}\n",
    "\n",
    "biases = {\n",
    "    'b1': tf.Variable(tf.zeros(shape=[2]),name='b1'),\n",
    "    'bout': tf.Variable(tf.zeros(shape=[1]),name='bout')\n",
    "}"
   ]
  },
  {
   "cell_type": "markdown",
   "metadata": {},
   "source": [
    "<h2>Define the neural network</h2>"
   ]
  },
  {
   "cell_type": "code",
   "execution_count": 8,
   "metadata": {},
   "outputs": [],
   "source": [
    "#define a neural net model\n",
    "def neural_net(x, weights, biases):\n",
    "    layer_1_out = tf.nn.sigmoid(tf.add(tf.matmul(x,weights['W1']),biases['b1']))\n",
    "    out = tf.add(tf.matmul(layer_1_out,weights['Wout']),biases['bout'])\n",
    "    return out"
   ]
  },
  {
   "cell_type": "markdown",
   "metadata": {},
   "source": [
    "<h2>Define cost function</h2>"
   ]
  },
  {
   "cell_type": "code",
   "execution_count": 9,
   "metadata": {},
   "outputs": [],
   "source": [
    "#predicted labels\n",
    "logits = neural_net(X, weights, biases)\n",
    "\n",
    "#define loss\n",
    "loss = tf.reduce_sum(tf.nn.sigmoid_cross_entropy_with_logits(logits=logits, labels=Y))\n",
    "#define optimizer\n",
    "optimizer = tf.train.GradientDescentOptimizer(learning_rate=lr)\n",
    "train_op = optimizer.minimize(loss)\n",
    "\n",
    "#compare the predicted labels with true labels\n",
    "correct_pred = tf.equal(tf.argmax(logits,1),tf.argmax(Y,1))\n",
    "\n",
    "#compute the accuracy by taking average\n",
    "accuracy = tf.reduce_mean(tf.cast(correct_pred,tf.float32),name='accuracy')\n",
    "\n",
    "#Initialize the variables\n",
    "init = tf.global_variables_initializer()"
   ]
  },
  {
   "cell_type": "markdown",
   "metadata": {},
   "source": []
  },
  {
   "cell_type": "markdown",
   "metadata": {},
   "source": [
    "<h2>Execute training</h2>"
   ]
  },
  {
   "cell_type": "code",
   "execution_count": 10,
   "metadata": {
    "scrolled": true
   },
   "outputs": [
    {
     "name": "stdout",
     "output_type": "stream",
     "text": [
      "[[0.5169994 ]\n",
      " [0.531974  ]\n",
      " [0.42467493]\n",
      " [0.4332504 ]]\n",
      "[[0.5286034 ]\n",
      " [0.5751048 ]\n",
      " [0.44881013]\n",
      " [0.45523864]]\n",
      "[[0.51100105]\n",
      " [0.6302072 ]\n",
      " [0.4276303 ]\n",
      " [0.43700922]]\n",
      "[[0.4740605 ]\n",
      " [0.7158928 ]\n",
      " [0.40381858]\n",
      " [0.40122128]]\n",
      "[[0.42193857]\n",
      " [0.78752327]\n",
      " [0.41203794]\n",
      " [0.34616005]]\n",
      "[[0.33684114]\n",
      " [0.8310415 ]\n",
      " [0.5019102 ]\n",
      " [0.26008406]]\n",
      "[[0.22020632]\n",
      " [0.87249154]\n",
      " [0.66681826]\n",
      " [0.16911036]]\n",
      "[[0.14042583]\n",
      " [0.9064675 ]\n",
      " [0.7901137 ]\n",
      " [0.11052841]]\n",
      "[[0.097294  ]\n",
      " [0.9291979 ]\n",
      " [0.85745716]\n",
      " [0.0780707 ]]\n",
      "[[0.0727345 ]\n",
      " [0.94410276]\n",
      " [0.8952018 ]\n",
      " [0.05911553]]\n",
      "[[0.05743867]\n",
      " [0.95426023]\n",
      " [0.9182665 ]\n",
      " [0.04709461]]\n",
      "[[0.04717112]\n",
      " [0.96150124]\n",
      " [0.9334926 ]\n",
      " [0.0389213 ]]\n",
      "[[0.03986964]\n",
      " [0.9668734 ]\n",
      " [0.9441728 ]\n",
      " [0.03305417]]\n",
      "[[0.03444153]\n",
      " [0.9709939 ]\n",
      " [0.95202506]\n",
      " [0.02866116]]\n",
      "[[0.03026298]\n",
      " [0.97424203]\n",
      " [0.9580157 ]\n",
      " [0.02526048]]\n",
      "[[0.02695563]\n",
      " [0.97686183]\n",
      " [0.9627224 ]\n",
      " [0.02255672]]\n",
      "[[0.02427763]\n",
      " [0.97901523]\n",
      " [0.9665105 ]\n",
      " [0.02035913]]\n",
      "[[0.02206796]\n",
      " [0.98081434]\n",
      " [0.9696202 ]\n",
      " [0.0185402 ]]\n",
      "[[0.02021578]\n",
      " [0.9823381 ]\n",
      " [0.9722159 ]\n",
      " [0.01701143]]\n",
      "[[0.01864192]\n",
      " [0.98364425]\n",
      " [0.9744133 ]\n",
      " [0.01570943]]\n",
      "[[0.01728919]\n",
      " [0.98477554]\n",
      " [0.9762963 ]\n",
      " [0.01458812]]\n",
      "[[0.01611444]\n",
      " [0.9857641 ]\n",
      " [0.9779271 ]\n",
      " [0.01361251]]\n",
      "[[0.01508555]\n",
      " [0.98663545]\n",
      " [0.9793524 ]\n",
      " [0.01275662]]\n",
      "[[0.01417705]\n",
      " [0.9874089 ]\n",
      " [0.9806082 ]\n",
      " [0.01199985]]\n",
      "[[0.01336899]\n",
      " [0.988099  ]\n",
      " [0.98172283]\n",
      " [0.01132584]]\n"
     ]
    }
   ],
   "source": [
    "loss_list = []\n",
    "\n",
    "with tf.Session() as sess:\n",
    "    sess.run(init)\n",
    "    \n",
    "    for i in range(NUM_ITER):\n",
    "        #every iteration we run optimization on the training data X and labels Y\n",
    "        sess.run([loss, train_op], feed_dict = {X:x,Y:y})\n",
    "        \n",
    "        if i % 1000 == 0:\n",
    "            L = sess.run(loss, feed_dict={X:x,Y:y})\n",
    "            loss_list.append(L)\n",
    "            print(sess.run(tf.sigmoid(neural_net(x, weights, biases))))\n",
    "    \n",
    "    #after training, we acquire the weight and bias\n",
    "    #np.squeeze plays a role to get rid of the redundant dimension [i.e.make (2,1) be (2,)]\n",
    "    W1 = np.squeeze(sess.run(weights['W1']))\n",
    "    Wout = np.squeeze(sess.run(weights['Wout']))\n",
    "    b1 = np.squeeze(sess.run(biases['b1']))\n",
    "    bout = np.squeeze(sess.run(biases['bout']))\n",
    "    \n",
    "    final_output = sess.run(tf.sigmoid(neural_net(x, weights, biases)))"
   ]
  },
  {
   "cell_type": "code",
   "execution_count": 11,
   "metadata": {},
   "outputs": [
    {
     "data": {
      "text/plain": [
       "[<matplotlib.lines.Line2D at 0x240b3182128>]"
      ]
     },
     "execution_count": 11,
     "metadata": {},
     "output_type": "execute_result"
    },
    {
     "data": {
      "image/png": "[encoded data removed]",
      "text/plain": [
       "<Figure size 432x288 with 1 Axes>"
      ]
     },
     "metadata": {
      "needs_background": "light"
     },
     "output_type": "display_data"
    }
   ],
   "source": [
    "plt.plot(loss_list)"
   ]
  },
  {
   "cell_type": "code",
   "execution_count": 12,
   "metadata": {},
   "outputs": [
    {
     "data": {
      "text/plain": [
       "(array([[0.01264703],\n",
       "        [0.98871875],\n",
       "        [0.98271763],\n",
       "        [0.01072294]], dtype=float32), array([[0.],\n",
       "        [1.],\n",
       "        [1.],\n",
       "        [0.]], dtype=float32))"
      ]
     },
     "execution_count": 12,
     "metadata": {},
     "output_type": "execute_result"
    }
   ],
   "source": [
    "final_output, y"
   ]
  },
  {
   "cell_type": "markdown",
   "metadata": {},
   "source": [
    "<h2>Plot</h2>"
   ]
  },
  {
   "cell_type": "code",
   "execution_count": 13,
   "metadata": {},
   "outputs": [
    {
     "data": {
      "image/png": "[encoded data removed]",
      "text/plain": [
       "<Figure size 432x288 with 1 Axes>"
      ]
     },
     "metadata": {
      "needs_background": "light"
     },
     "output_type": "display_data"
    }
   ],
   "source": [
    "#plot out the decision line determined by learned weight and bias\n",
    "plot_x = np.array([np.min(x[:, 0] - 0.2), np.max(x[:, 1]+0.2)])\n",
    "plot_y1 = 1 / W1[1, 0] * (-W1[0, 0] * plot_x - b1[0])\n",
    "plot_y2 = 1 / W1[1, 1] * (-W1[0, 1] * plot_x - b1[1])\n",
    "\n",
    "plt.scatter(x[:, 0], x[:, 1], c=np.squeeze(y), s=100, cmap='viridis')\n",
    "plt.plot(plot_x, plot_y1, color='k', linewidth=2)\n",
    "plt.plot(plot_x, plot_y2, color='k', linewidth=2)\n",
    "plt.xlim([-0.2, 1.2]); plt.ylim([-0.2, 1.25]);\n",
    "plt.show()"
   ]
  }
 ],
 "metadata": {
  "kernelspec": {
   "display_name": "Python 3",
   "language": "python",
   "name": "python3"
  },
  "language_info": {
   "codemirror_mode": {
    "name": "ipython",
    "version": 3
   },
   "file_extension": ".py",
   "mimetype": "text/x-python",
   "name": "python",
   "nbconvert_exporter": "python",
   "pygments_lexer": "ipython3",
   "version": "3.7.1"
  }
 },
 "nbformat": 4,
 "nbformat_minor": 2
}
