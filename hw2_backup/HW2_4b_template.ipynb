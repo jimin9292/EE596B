{
 "cells": [
  {
   "cell_type": "code",
   "execution_count": null,
   "metadata": {},
   "outputs": [],
   "source": [
    "import tensorflow as tf\n",
    "import numpy as np\n",
    "import pickle\n",
    "import matplotlib.pyplot as plt\n",
    "import timeit"
   ]
  },
  {
   "cell_type": "markdown",
   "metadata": {},
   "source": [
    "<h1>Load training, validation, testing set from your preprocessed files</h1>"
   ]
  },
  {
   "cell_type": "code",
   "execution_count": null,
   "metadata": {},
   "outputs": [],
   "source": [
    "x_train, y_train = pickle.load(open('cat_dog_train.p','rb'))\n",
    "\n",
    "x_valid, y_valid = pickle.load(open('cat_dog_valid.p','rb'))\n",
    "x_test = pickle.load(open('cat_dog_test.p','rb'))"
   ]
  },
  {
   "cell_type": "markdown",
   "metadata": {},
   "source": [
    "<h1>Define hyperparameter</h1>"
   ]
  },
  {
   "cell_type": "code",
   "execution_count": null,
   "metadata": {},
   "outputs": [],
   "source": [
    "learning_rate = 0.001\n",
    "batch_size = 64\n",
    "\n",
    "image_width = 227\n",
    "image_height = 227\n",
    "image_depth = 3\n",
    "num_labels = 2"
   ]
  },
  {
   "cell_type": "markdown",
   "metadata": {},
   "source": [
    "<h1>Placeholder</h1>"
   ]
  },
  {
   "cell_type": "code",
   "execution_count": null,
   "metadata": {},
   "outputs": [],
   "source": [
    "tf.reset_default_graph()\n",
    "\n",
    "network_input = tf.placeholder(tf.float32, shape=[None, 227, 227, 3])\n",
    "true_labels = tf.placeholder(tf.float32, shape=[None, 2])\n",
    "keep_prob = tf.placeholder(tf.float32)"
   ]
  },
  {
   "cell_type": "code",
   "execution_count": null,
   "metadata": {},
   "outputs": [],
   "source": [
    "def get_alexnet_variables(output_class_num):\n",
    "    with tf.name_scope('conv1'):\n",
    "        w1 = tf.Variable(tf.truncated_normal(shape=[11, 11, 3, 96], stddev=0.1), name='w1')\n",
    "        b1 = tf.Variable(tf.zeros([96]), name='b1')\n",
    "    with tf.name_scope('conv2'):\n",
    "        w2 = tf.Variable(tf.truncated_normal(shape=[5, 5, 96, 256], stddev=0.1), name='w2')\n",
    "        b2 = tf.Variable(tf.constant(1.0, shape=[256]), name='b2')\n",
    "    with tf.name_scope('conv3'):\n",
    "        w3 = tf.Variable(tf.truncated_normal(shape=[3, 3, 256, 384], stddev=0.1), name='w3')\n",
    "        b3 = tf.Variable(tf.zeros([384]), name='b3')\n",
    "    with tf.name_scope('conv4'):\n",
    "        w4 = tf.Variable(tf.truncated_normal(shape=[3, 3, 384, 384], stddev=0.1), name='w4')\n",
    "        b4 = tf.Variable(tf.constant(1.0, shape=[384]), name='b4')\n",
    "    with tf.name_scope('conv5'):\n",
    "        w5 = tf.Variable(tf.truncated_normal(shape=[3, 3, 384, 256], stddev=0.1), name='w5')\n",
    "        b5 = tf.Variable(tf.zeros([256]), name='b5')\n",
    "    with tf.name_scope('fc6'):\n",
    "        w6 = tf.Variable(tf.truncated_normal(shape=[(224 // 2 ** 5) * (224 // 2 ** 5) * 256, 4096], stddev=0.1),\n",
    "                        name='w6')\n",
    "        b6 = tf.Variable(tf.constant(1.0, shape=[4096]), name='b6')\n",
    "    with tf.name_scope('fc7'):\n",
    "        w7 = tf.Variable(tf.truncated_normal(shape=[4096, 4096], stddev=0.1), name='w7')\n",
    "        b7 = tf.Variable(tf.constant(1.0, shape=[4096]), name='b7')\n",
    "    with tf.name_scope('fc8'):\n",
    "        w8 = tf.Variable(tf.truncated_normal(shape=[4096, output_class_num], stddev=0.1), name='w8')\n",
    "        b8 = tf.Variable(tf.constant(1.0, shape=[output_class_num]), name='b8')\n",
    "\n",
    "    variables = dict(w1=w1, w2=w2, w3=w3, w4=w4, w5=w5, w6=w6, w7=w7, w8=w8, b1=b1, b2=b2, b3=b3, b4=b4, b5=b5, b6=b6,\n",
    "                    b7=b7, b8=b8)\n",
    "\n",
    "    return variables\n"
   ]
  },
  {
   "cell_type": "markdown",
   "metadata": {},
   "source": [
    "<h1>AlexNet</h1>"
   ]
  },
  {
   "cell_type": "code",
   "execution_count": null,
   "metadata": {},
   "outputs": [],
   "source": [
    "def alexnet(variables, input_data, keep_prob_for_net):\n",
    "    # layer one : conventional layer\n",
    "    with tf.name_scope('conv1'):\n",
    "        conv1 = tf.nn.conv2d(input_data, variables['w1'], strides=[1, 4, 4, 1], padding='SAME')\n",
    "        conv1 = tf.nn.bias_add(conv1, variables['b1'])\n",
    "        conv1 = tf.nn.relu(conv1)\n",
    "        conv1 = tf.nn.max_pool(conv1, ksize=[1, 3, 3, 1], strides=[1, 2, 2, 1], padding='SAME')\n",
    "        conv1 = tf.nn.local_response_normalization(conv1)\n",
    "\n",
    "    # layer two : conventional layer\n",
    "    with tf.name_scope('conv2'):\n",
    "        conv2 = tf.nn.conv2d(conv1, variables['w2'], strides=[1, 1, 1, 1], padding='SAME')\n",
    "        conv2 = tf.nn.bias_add(conv2, variables['b2'])\n",
    "        conv2 = tf.nn.relu(conv2)\n",
    "        conv2 = tf.nn.max_pool(conv2, ksize=[1, 3, 3, 1], strides=[1, 2, 2, 1], padding='SAME')\n",
    "        conv2 = tf.nn.local_response_normalization(conv2)\n",
    "\n",
    "    # layer three: conventional layer\n",
    "    with tf.name_scope('conv3'):\n",
    "        conv3 = tf.nn.conv2d(conv2, variables['w3'], strides=[1, 1, 1, 1], padding='SAME')\n",
    "        conv3 = tf.nn.bias_add(conv3, variables['b3'])\n",
    "        conv3 = tf.nn.relu(conv3)\n",
    "\n",
    "    # layer four: conventional layer\n",
    "    with tf.name_scope('conv4'):\n",
    "        conv4 = tf.nn.conv2d(conv3, variables['w4'], strides=[1, 1, 1, 1], padding='SAME')\n",
    "        conv4 = tf.nn.bias_add(conv4, variables['b4'])\n",
    "        conv4 = tf.nn.relu(conv4)\n",
    "\n",
    "    # layer five: conventional layer\n",
    "    with tf.name_scope('conv5'):\n",
    "        conv5 = tf.nn.conv2d(conv4, variables['w5'], strides=[1, 1, 1, 1], padding='SAME')\n",
    "        conv5 = tf.nn.bias_add(conv5, variables['b5'])\n",
    "        conv5 = tf.nn.relu(conv5)\n",
    "        conv5 = tf.nn.max_pool(conv5, ksize=[1, 3, 3, 1], strides=[1, 2, 2, 1], padding='SAME')\n",
    "        conv5 = tf.nn.local_response_normalization(conv5)\n",
    "\n",
    "    # flat data\n",
    "    with tf.name_scope('flatten'):\n",
    "        flatten = tf.reshape(conv5, shape=[-1, (224 // 2 ** 5) * (224 // 2 ** 5) * 256])\n",
    "\n",
    "    # layer six: fully connected layer\n",
    "    with tf.name_scope('fc6'):\n",
    "        fc6 = tf.matmul(flatten, variables['w6']) + variables['b6']\n",
    "        fc6 = tf.nn.tanh(fc6)\n",
    "        fc6 = tf.nn.dropout(fc6, keep_prob=keep_prob_for_net)\n",
    "\n",
    "    # layer seven: fully connected layer\n",
    "    with tf.name_scope('fc7'):\n",
    "        fc7 = tf.matmul(fc6, variables['w7']) + variables['b7']\n",
    "        fc7 = tf.nn.tanh(fc7)\n",
    "        fc7 = tf.nn.dropout(fc7, keep_prob=keep_prob_for_net)\n",
    "\n",
    "    # layer eight: fully connected layer\n",
    "    with tf.name_scope('fc8'):\n",
    "        logits_output = tf.matmul(fc7, variables['w8']) + variables['b8']\n",
    "\n",
    "    return logits_output"
   ]
  },
  {
   "cell_type": "markdown",
   "metadata": {},
   "source": [
    "<h1>Cost and Optimization</h1>"
   ]
  },
  {
   "cell_type": "code",
   "execution_count": null,
   "metadata": {},
   "outputs": [],
   "source": []
  },
  {
   "cell_type": "markdown",
   "metadata": {},
   "source": [
    "<h1>Training and validation</h1>\n",
    "<h2>Train your model only 10 epochs</h2>\n",
    "<p style=\"font-size:20px\">1. Print out training accuracy and validation accuracy each training epoch</p>\n",
    "<p style=\"font-size:20px\">2. Print out training time each training epoch</p>\n",
    "<p style=\"font-size:20px\">3. Your goal is to reach 85% validation accuracy in 10 training epochs. If you reach that, you can perform testing, print out your test accuracy. Plot out the ten images with title that contains the probability of the labeled class.</p>"
   ]
  },
  {
   "cell_type": "code",
   "execution_count": null,
   "metadata": {},
   "outputs": [],
   "source": []
  }
 ],
 "metadata": {
  "kernelspec": {
   "display_name": "Python 3",
   "language": "python",
   "name": "python3"
  },
  "language_info": {
   "codemirror_mode": {
    "name": "ipython",
    "version": 3
   },
   "file_extension": ".py",
   "mimetype": "text/x-python",
   "name": "python",
   "nbconvert_exporter": "python",
   "pygments_lexer": "ipython3",
   "version": "3.7.1"
  }
 },
 "nbformat": 4,
 "nbformat_minor": 2
}
