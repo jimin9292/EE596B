{
 "cells": [
  {
   "cell_type": "markdown",
   "metadata": {},
   "source": [
    "<p style=\"font-size:20px\">You may need to install <b>tqdm</b> and <b>cv2</b>. Simply do <b>conda install tqdm</b> and <b>conda install cv2</b> in your virtual environment. You are also free to use other tools to fetch the image files and resize them.</p>"
   ]
  },
  {
   "cell_type": "code",
   "execution_count": 1,
   "metadata": {},
   "outputs": [],
   "source": [
    "import numpy as np\n",
    "import matplotlib.pyplot as plt\n",
    "from random import shuffle\n",
    "from tqdm import tqdm\n",
    "import pickle\n",
    "import os\n",
    "import cv2\n",
    "import timeit\n",
    "import random"
   ]
  },
  {
   "cell_type": "markdown",
   "metadata": {},
   "source": [
    "<p style=\"font-size:20px\">In Problem 4a, you will preprocess the dogs and cats data and save them into \"Pickle\" files for later use."
   ]
  },
  {
   "cell_type": "code",
   "execution_count": 2,
   "metadata": {},
   "outputs": [],
   "source": [
    "train_dir = 'train'\n",
    "test_dir = 'test1'"
   ]
  },
  {
   "cell_type": "markdown",
   "metadata": {},
   "source": [
    "<p style=\"font-size:20px\">Step 1: Kaggle does not provide a file that contains the labels. So we need to create labels from the training file."
   ]
  },
  {
   "cell_type": "code",
   "execution_count": 3,
   "metadata": {},
   "outputs": [],
   "source": [
    "\"\"\"\n",
    "a function to return the label of a image\n",
    "input: \n",
    "    image\n",
    "return:\n",
    "    if the image is cat, return [1,0]\n",
    "    if the image is dog, return [0,1]\n",
    "\"\"\"\n",
    "def label_img(img_filename):\n",
    "    \n",
    "    if img_filename[:3] == 'dog':\n",
    "        \n",
    "        return np.asarray([0,1])\n",
    "    \n",
    "    elif img_filename[:3] == 'cat':\n",
    "        \n",
    "        return np.asarray([1,0])"
   ]
  },
  {
   "cell_type": "markdown",
   "metadata": {},
   "source": [
    "<p style=\"font-size:20px\">Step 2: define a function to fetch all images from the training directory and return a <b>list</b> that every element contains two <b>Numpy array</b>:image and its label."
   ]
  },
  {
   "cell_type": "code",
   "execution_count": 4,
   "metadata": {},
   "outputs": [],
   "source": [
    "\"\"\"\n",
    "Hint 1: use tqdm to fetch file\n",
    "    for file in tqdm(os.listdir(directory)):\n",
    "        ...\n",
    "\n",
    "Hint 2: use cv2 to read file\n",
    "    cv2.imread(path)\n",
    "\n",
    "Hint 3: use cv2 to resize img\n",
    "    cv2.resize(img, (size, size))\n",
    "\"\"\"\n",
    "def create_train_data():\n",
    "    ###create a list###\n",
    "    train_img_list = []\n",
    "    \n",
    "    ####for loop to fetch img from directory (hint:use tqdm)###\n",
    "    \n",
    "    for file in tqdm(os.listdir(train_dir)):\n",
    "        \n",
    "        ###get label of img###\n",
    "        \n",
    "        label = label_img(file)\n",
    "        \n",
    "        ###use cv2 to read the img and resize the it to (227 x 227)###\n",
    "        \n",
    "        newimg = cv2.resize(cv2.imread(train_dir + '/' + file), (227, 227))\n",
    "        \n",
    "        ###append the img and label to the list###\n",
    "        \n",
    "        train_img_list.append((newimg, label))\n",
    "        \n",
    "    ###shuffle training data###\n",
    "    \n",
    "    random.shuffle(train_img_list,random.random)\n",
    "    \n",
    "    ###return training data###\n",
    "    \n",
    "    return train_img_list"
   ]
  },
  {
   "cell_type": "markdown",
   "metadata": {},
   "source": [
    "<p style=\"font-size:20px\">Step 3: define a similar function to fetch all test data. You don't need to label them."
   ]
  },
  {
   "cell_type": "code",
   "execution_count": 5,
   "metadata": {},
   "outputs": [],
   "source": [
    "def create_test_data():\n",
    "    \n",
    "    test_img_list = []\n",
    "    \n",
    "    ####for loop to fetch img from directory (hint:use tqdm)###\n",
    "    \n",
    "    for file in tqdm(os.listdir(test_dir)):\n",
    "        \n",
    "        ###use cv2 to read the img and resize the it to (227 x 227)###\n",
    "        \n",
    "        newimg = cv2.resize(cv2.imread(test_dir + '/' + file), (227, 227))\n",
    "        #print(newimg.shape)\n",
    "        \n",
    "        ###append the img and label to the list###\n",
    "        \n",
    "        test_img_list.append(newimg)\n",
    "    \n",
    "    ###return training data###\n",
    "    \n",
    "    return test_img_list"
   ]
  },
  {
   "cell_type": "markdown",
   "metadata": {},
   "source": [
    "<p style=\"font-size:20px\">Step 4: create your train and test data</p>"
   ]
  },
  {
   "cell_type": "code",
   "execution_count": 6,
   "metadata": {},
   "outputs": [
    {
     "name": "stderr",
     "output_type": "stream",
     "text": [
      "100%|███████████████████████████████████████████████████████████████████████████| 25000/25000 [01:20<00:00, 311.23it/s]\n",
      "100%|███████████████████████████████████████████████████████████████████████████| 12500/12500 [00:30<00:00, 407.36it/s]\n"
     ]
    }
   ],
   "source": [
    "train_data = create_train_data()\n",
    "test_data = create_test_data()"
   ]
  },
  {
   "cell_type": "code",
   "execution_count": 24,
   "metadata": {},
   "outputs": [
    {
     "data": {
      "text/plain": [
       "(227, 227, 3)"
      ]
     },
     "execution_count": 24,
     "metadata": {},
     "output_type": "execute_result"
    }
   ],
   "source": [
    "test_data[0].shape"
   ]
  },
  {
   "cell_type": "markdown",
   "metadata": {},
   "source": [
    "<p style=\"font-size:20px\"> You can visualize the image using plt.imshow()"
   ]
  },
  {
   "cell_type": "markdown",
   "metadata": {},
   "source": [
    "<p style=\"font-size:20px\">Step 5: Reshape all images to have shape (#, 227, 227, 3). Use 500 training data as your validation set."
   ]
  },
  {
   "cell_type": "code",
   "execution_count": 9,
   "metadata": {},
   "outputs": [],
   "source": [
    "train_data_mat = []\n",
    "train_data_label_mat = []\n",
    "valid_data_mat = []\n",
    "valid_data_label_mat = []\n",
    "\n",
    "k = 0\n",
    "\n",
    "while k < len(train_data):\n",
    "    \n",
    "    if k < len(train_data) - 500:\n",
    "    \n",
    "        img_mat = train_data[k][0]\n",
    "        img_label = train_data[k][1]\n",
    "\n",
    "        train_data_mat.append(img_mat)\n",
    "        train_data_label_mat.append(img_label)\n",
    "    \n",
    "    else:\n",
    "        \n",
    "        img_mat = train_data[k][0]\n",
    "        img_label = train_data[k][1]\n",
    "\n",
    "        valid_data_mat.append(img_mat)\n",
    "        valid_data_label_mat.append(img_label)\n",
    "        \n",
    "    k += 1\n",
    "\n",
    "train_data_mat = np.stack(train_data_mat)\n",
    "train_data_label_mat = np.stack(train_data_label_mat)\n",
    "valid_data_mat = np.stack(valid_data_mat)\n",
    "valid_data_label_mat = np.stack(valid_data_label_mat)"
   ]
  },
  {
   "cell_type": "code",
   "execution_count": 33,
   "metadata": {},
   "outputs": [
    {
     "data": {
      "text/plain": [
       "(500, 227, 227, 3)"
      ]
     },
     "execution_count": 33,
     "metadata": {},
     "output_type": "execute_result"
    }
   ],
   "source": [
    "valid_data_mat.shape"
   ]
  },
  {
   "cell_type": "code",
   "execution_count": 22,
   "metadata": {},
   "outputs": [],
   "source": [
    "test_data_mat = []\n",
    "\n",
    "for img in test_data:\n",
    "    \n",
    "    test_data_mat.append(img)\n",
    "\n",
    "test_data_mat = np.stack(test_data_mat)"
   ]
  },
  {
   "cell_type": "code",
   "execution_count": 23,
   "metadata": {},
   "outputs": [
    {
     "data": {
      "text/plain": [
       "(12500, 227, 227, 3)"
      ]
     },
     "execution_count": 23,
     "metadata": {},
     "output_type": "execute_result"
    }
   ],
   "source": [
    "test_data_mat.shape"
   ]
  },
  {
   "cell_type": "code",
   "execution_count": 36,
   "metadata": {},
   "outputs": [],
   "source": [
    "pickle.dump((train_data_mat, train_data_label_mat), open('cat_dog_train.p', 'wb'))\n",
    "pickle.dump((valid_data_mat, valid_data_label_mat), open('cat_dog_valid.p', 'wb'))\n",
    "pickle.dump((test_data_mat), open('cat_dog_test.p', 'wb'))"
   ]
  },
  {
   "cell_type": "markdown",
   "metadata": {},
   "source": [
    "<p style=\"font-size:20px\">Step 6: Save training data, validation data and testing data as Pickle object</p>\n",
    "<p style=\"font-size:20px\">Note: You can't save all training data into one file because it has several Gigabytes. Separate your data wisely and save them into different files</p>"
   ]
  }
 ],
 "metadata": {
  "kernelspec": {
   "display_name": "Python 3",
   "language": "python",
   "name": "python3"
  },
  "language_info": {
   "codemirror_mode": {
    "name": "ipython",
    "version": 3
   },
   "file_extension": ".py",
   "mimetype": "text/x-python",
   "name": "python",
   "nbconvert_exporter": "python",
   "pygments_lexer": "ipython3",
   "version": "3.7.1"
  }
 },
 "nbformat": 4,
 "nbformat_minor": 2
}
