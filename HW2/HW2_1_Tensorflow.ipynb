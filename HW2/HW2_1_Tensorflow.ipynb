{
 "cells": [
  {
   "cell_type": "code",
   "execution_count": 1,
   "metadata": {},
   "outputs": [],
   "source": [
    "%matplotlib inline\n",
    "\n",
    "import tensorflow as tf\n",
    "import time\n",
    "import matplotlib.pyplot as plt\n",
    "old_v = tf.logging.get_verbosity()\n",
    "tf.logging.set_verbosity(tf.logging.ERROR)"
   ]
  },
  {
   "cell_type": "markdown",
   "metadata": {},
   "source": [
    "<h2>Extract MNIST data</h2>\n",
    "<p style=\"font-size:20px\">You can change the option of one_hot encoding."
   ]
  },
  {
   "cell_type": "code",
   "execution_count": 2,
   "metadata": {},
   "outputs": [
    {
     "name": "stdout",
     "output_type": "stream",
     "text": [
      "Extracting MNIST_data/train-images-idx3-ubyte.gz\n",
      "Extracting MNIST_data/train-labels-idx1-ubyte.gz\n",
      "Extracting MNIST_data/t10k-images-idx3-ubyte.gz\n",
      "Extracting MNIST_data/t10k-labels-idx1-ubyte.gz\n"
     ]
    }
   ],
   "source": [
    "from tensorflow.examples.tutorials.mnist import input_data\n",
    "#get mnist data, with one_hot encoding\n",
    "mnist = input_data.read_data_sets(\"MNIST_data/\",one_hot=True)\n",
    "#suppress warnings\n",
    "tf.logging.set_verbosity(old_v)"
   ]
  },
  {
   "cell_type": "code",
   "execution_count": 3,
   "metadata": {},
   "outputs": [],
   "source": [
    "num_train = mnist.train.num_examples #55,000\n",
    "num_validation = mnist.validation.num_examples #5000\n",
    "num_test = mnist.test.num_examples #10,000"
   ]
  },
  {
   "cell_type": "markdown",
   "metadata": {},
   "source": [
    "<h2>Define hyperparameters</h2>"
   ]
  },
  {
   "cell_type": "code",
   "execution_count": 4,
   "metadata": {},
   "outputs": [],
   "source": [
    "#learning rate\n",
    "lr = 0.01\n",
    "\n",
    "#network parameters\n",
    "n_hidden_1 = 100\n",
    "num_input = 784\n",
    "num_classes = 10"
   ]
  },
  {
   "cell_type": "code",
   "execution_count": 5,
   "metadata": {},
   "outputs": [],
   "source": [
    "tf.reset_default_graph()"
   ]
  },
  {
   "cell_type": "markdown",
   "metadata": {},
   "source": [
    "<h2>Define placeholder and Variables</h2>"
   ]
  },
  {
   "cell_type": "code",
   "execution_count": 6,
   "metadata": {},
   "outputs": [
    {
     "name": "stdout",
     "output_type": "stream",
     "text": [
      "WARNING:tensorflow:From C:\\Users\\Jimin\\Anaconda3\\lib\\site-packages\\tensorflow\\python\\framework\\op_def_library.py:263: colocate_with (from tensorflow.python.framework.ops) is deprecated and will be removed in a future version.\n",
      "Instructions for updating:\n",
      "Colocations handled automatically by placer.\n"
     ]
    }
   ],
   "source": [
    "#tf graph input\n",
    "X = tf.placeholder(tf.float32,[None,num_input],name='X')\n",
    "Y = tf.placeholder(tf.int32,[None,num_classes],name='Y')\n",
    "\n",
    "#Layers weight & bias\n",
    "weights = {\n",
    "    'W1': tf.Variable(tf.random_normal([num_input, n_hidden_1]),name='W1'),\n",
    "    'Wout': tf.Variable(tf.random_normal([n_hidden_1, num_classes]),name='Wout')\n",
    "}\n",
    "\n",
    "biases = {\n",
    "    'b1': tf.Variable(tf.zeros(shape=[n_hidden_1]),name='b1'),\n",
    "    'bout': tf.Variable(tf.zeros(shape=[num_classes]),name='bout')\n",
    "}"
   ]
  },
  {
   "cell_type": "markdown",
   "metadata": {},
   "source": [
    "<h2>Define neural network</h2>"
   ]
  },
  {
   "cell_type": "code",
   "execution_count": 7,
   "metadata": {},
   "outputs": [],
   "source": [
    "#define a neural net model\n",
    "def neural_net(x):\n",
    "    layer_1_out = tf.nn.relu(tf.add(tf.matmul(x,weights['W1']),biases['b1']))\n",
    "    out = tf.add(tf.matmul(layer_1_out,weights['Wout']),biases['bout'])\n",
    "    return out"
   ]
  },
  {
   "cell_type": "markdown",
   "metadata": {},
   "source": [
    "<h2>Define cost function and accuracy</h2>"
   ]
  },
  {
   "cell_type": "code",
   "execution_count": 8,
   "metadata": {},
   "outputs": [],
   "source": [
    "#predicted labels\n",
    "logits = neural_net(X)\n",
    "\n",
    "#define loss\n",
    "loss = tf.reduce_mean(tf.nn.softmax_cross_entropy_with_logits_v2(logits=logits,labels=Y),name='loss')\n",
    "#define optimizer\n",
    "optimizer = tf.train.GradientDescentOptimizer(learning_rate=lr)\n",
    "train_op = optimizer.minimize(loss)\n",
    "\n",
    "#compare the predicted labels with true labels\n",
    "correct_pred = tf.equal(tf.argmax(logits,1),tf.argmax(Y,1))\n",
    "\n",
    "#compute the accuracy by taking average\n",
    "accuracy = tf.reduce_mean(tf.cast(correct_pred,tf.float32),name='accuracy')\n",
    "\n",
    "#Initialize the variables\n",
    "init = tf.global_variables_initializer()"
   ]
  },
  {
   "cell_type": "markdown",
   "metadata": {},
   "source": [
    "<h2>Execute training</h2>"
   ]
  },
  {
   "cell_type": "code",
   "execution_count": 9,
   "metadata": {},
   "outputs": [
    {
     "name": "stdout",
     "output_type": "stream",
     "text": [
      "Epoch 0.0, Train Accuracy= 0.062\n",
      "Epoch 0.0, Valid Accuracy= 0.121\n",
      "Epoch 1.0, Train Accuracy= 0.812\n",
      "Epoch 1.0, Valid Accuracy= 0.858\n",
      "Epoch 2.0, Train Accuracy= 0.938\n",
      "Epoch 2.0, Valid Accuracy= 0.881\n",
      "Epoch 3.0, Train Accuracy= 0.812\n",
      "Epoch 3.0, Valid Accuracy= 0.892\n",
      "Epoch 4.0, Train Accuracy= 1.000\n",
      "Epoch 4.0, Valid Accuracy= 0.892\n",
      "Epoch 5.0, Train Accuracy= 1.000\n",
      "Epoch 5.0, Valid Accuracy= 0.896\n",
      "Epoch 6.0, Train Accuracy= 1.000\n",
      "Epoch 6.0, Valid Accuracy= 0.904\n",
      "Epoch 7.0, Train Accuracy= 1.000\n",
      "Epoch 7.0, Valid Accuracy= 0.903\n",
      "Epoch 8.0, Train Accuracy= 1.000\n",
      "Epoch 8.0, Valid Accuracy= 0.908\n",
      "Epoch 9.0, Train Accuracy= 0.938\n",
      "Epoch 9.0, Valid Accuracy= 0.913\n",
      "Training finished!\n",
      "Testing Accuracy: 89.5900011062622 %\n",
      "Took 27.421378 s\n"
     ]
    },
    {
     "data": {
      "image/png": "[encoded data removed]",
      "text/plain": [
       "<Figure size 432x288 with 1 Axes>"
      ]
     },
     "metadata": {
      "needs_background": "light"
     },
     "output_type": "display_data"
    }
   ],
   "source": [
    "# Mini-batch size = 16\n",
    "\n",
    "loss_log = []\n",
    "\n",
    "start = time.time()\n",
    "\n",
    "with tf.Session() as sess:\n",
    "    sess.run(init)\n",
    "    \n",
    "    for i in range(int(num_train/16.) * 10):\n",
    "        #fetch batch\n",
    "        batch_x, batch_y = mnist.train.next_batch(16)\n",
    "        \n",
    "        #run optimization\n",
    "        _, c = sess.run([train_op, loss], feed_dict={X:batch_x, Y:batch_y})\n",
    "        if i % int(num_train/16.) ==0:\n",
    "            acc_train = sess.run(accuracy,feed_dict={X:batch_x, Y:batch_y})\n",
    "            acc_valid = sess.run(accuracy,feed_dict={X:mnist.validation.images, Y:mnist.validation.labels})\n",
    "            print(\"Epoch \"+str(i/int(num_train/16.))+\", Train Accuracy= {:.3f}\".format(acc_train))\n",
    "            print(\"Epoch \"+str(i/int(num_train/16.))+\", Valid Accuracy= {:.3f}\".format(acc_valid))\n",
    "            loss_log.append(c)\n",
    "    \n",
    "    print(\"Training finished!\")\n",
    "    \n",
    "    print(\"Testing Accuracy:\", sess.run(accuracy, feed_dict={X:mnist.test.images, Y:mnist.test.labels}) * 100, \"%\")\n",
    "    \n",
    "end = time.time()\n",
    "print(\"Took %f s\" % ((end - start)))\n",
    "\n",
    "plt.plot(loss_log,label='Loss')\n",
    "#plt.plot(val_log,label='val accuracy')\n",
    "plt.legend(loc='best')\n",
    "plt.grid()\n",
    "plt.show()    "
   ]
  },
  {
   "cell_type": "code",
   "execution_count": 10,
   "metadata": {},
   "outputs": [
    {
     "name": "stdout",
     "output_type": "stream",
     "text": [
      "Epoch 0.0, Train Accuracy= 0.141\n",
      "Epoch 0.0, Valid Accuracy= 0.130\n",
      "Epoch 1.0, Train Accuracy= 0.891\n",
      "Epoch 1.0, Valid Accuracy= 0.853\n",
      "Epoch 2.0, Train Accuracy= 0.938\n",
      "Epoch 2.0, Valid Accuracy= 0.875\n",
      "Epoch 3.0, Train Accuracy= 0.875\n",
      "Epoch 3.0, Valid Accuracy= 0.879\n",
      "Epoch 4.0, Train Accuracy= 0.906\n",
      "Epoch 4.0, Valid Accuracy= 0.889\n",
      "Epoch 5.0, Train Accuracy= 0.938\n",
      "Epoch 5.0, Valid Accuracy= 0.892\n",
      "Epoch 6.0, Train Accuracy= 0.891\n",
      "Epoch 6.0, Valid Accuracy= 0.903\n",
      "Epoch 7.0, Train Accuracy= 0.875\n",
      "Epoch 7.0, Valid Accuracy= 0.906\n",
      "Epoch 8.0, Train Accuracy= 0.938\n",
      "Epoch 8.0, Valid Accuracy= 0.910\n",
      "Epoch 9.0, Train Accuracy= 0.953\n",
      "Epoch 9.0, Valid Accuracy= 0.913\n",
      "Training finished!\n",
      "Testing Accuracy: 90.64000248908997 %\n",
      "Took 30.431023 s\n"
     ]
    },
    {
     "data": {
      "image/png": "[encoded data removed]",
      "text/plain": [
       "<Figure size 432x288 with 1 Axes>"
      ]
     },
     "metadata": {
      "needs_background": "light"
     },
     "output_type": "display_data"
    }
   ],
   "source": [
    "# Mini-batch size = 64\n",
    "\n",
    "loss_log = []\n",
    "\n",
    "start = time.time()\n",
    "\n",
    "with tf.Session() as sess:\n",
    "    sess.run(init)\n",
    "    \n",
    "    for i in range(int(num_train/16.) * 10):\n",
    "        #fetch batch\n",
    "        batch_x, batch_y = mnist.train.next_batch(64)\n",
    "        \n",
    "        #run optimization\n",
    "        _, c = sess.run([train_op, loss], feed_dict={X:batch_x, Y:batch_y})\n",
    "        if i % int(num_train/16.) ==0:\n",
    "            acc_train = sess.run(accuracy,feed_dict={X:batch_x, Y:batch_y})\n",
    "            acc_valid = sess.run(accuracy,feed_dict={X:mnist.validation.images, Y:mnist.validation.labels})\n",
    "            print(\"Epoch \"+str(i/int(num_train/16.))+\", Train Accuracy= {:.3f}\".format(acc_train))\n",
    "            print(\"Epoch \"+str(i/int(num_train/16.))+\", Valid Accuracy= {:.3f}\".format(acc_valid))\n",
    "            loss_log.append(c)\n",
    "    \n",
    "    print(\"Training finished!\")\n",
    "    \n",
    "    print(\"Testing Accuracy:\", sess.run(accuracy, feed_dict={X:mnist.test.images, Y:mnist.test.labels}) * 100, \"%\")\n",
    "    \n",
    "end = time.time()\n",
    "print(\"Took %f s\" % ((end - start)))\n",
    "\n",
    "plt.plot(loss_log,label='Loss')\n",
    "#plt.plot(val_log,label='val accuracy')\n",
    "plt.legend(loc='best')\n",
    "plt.grid()\n",
    "plt.show()    "
   ]
  },
  {
   "cell_type": "code",
   "execution_count": 11,
   "metadata": {},
   "outputs": [
    {
     "name": "stdout",
     "output_type": "stream",
     "text": [
      "Epoch 0.0, Train Accuracy= 0.078\n",
      "Epoch 0.0, Valid Accuracy= 0.068\n",
      "Epoch 1.0, Train Accuracy= 0.852\n",
      "Epoch 1.0, Valid Accuracy= 0.856\n",
      "Epoch 2.0, Train Accuracy= 0.863\n",
      "Epoch 2.0, Valid Accuracy= 0.876\n",
      "Epoch 3.0, Train Accuracy= 0.926\n",
      "Epoch 3.0, Valid Accuracy= 0.885\n",
      "Epoch 4.0, Train Accuracy= 0.906\n",
      "Epoch 4.0, Valid Accuracy= 0.888\n",
      "Epoch 5.0, Train Accuracy= 0.910\n",
      "Epoch 5.0, Valid Accuracy= 0.893\n",
      "Epoch 6.0, Train Accuracy= 0.906\n",
      "Epoch 6.0, Valid Accuracy= 0.898\n",
      "Epoch 7.0, Train Accuracy= 0.934\n",
      "Epoch 7.0, Valid Accuracy= 0.902\n",
      "Epoch 8.0, Train Accuracy= 0.930\n",
      "Epoch 8.0, Valid Accuracy= 0.904\n",
      "Epoch 9.0, Train Accuracy= 0.883\n",
      "Epoch 9.0, Valid Accuracy= 0.906\n",
      "Training finished!\n",
      "Testing Accuracy: 91.51999950408936 %\n",
      "Took 42.291286 s\n"
     ]
    },
    {
     "data": {
      "image/png": "[encoded data removed]",
      "text/plain": [
       "<Figure size 432x288 with 1 Axes>"
      ]
     },
     "metadata": {
      "needs_background": "light"
     },
     "output_type": "display_data"
    }
   ],
   "source": [
    "# Mini-batch size = 256\n",
    "\n",
    "loss_log = []\n",
    "\n",
    "start = time.time()\n",
    "\n",
    "with tf.Session() as sess:\n",
    "    sess.run(init)\n",
    "    \n",
    "    for i in range(int(num_train/16.) * 10):\n",
    "        #fetch batch\n",
    "        batch_x, batch_y = mnist.train.next_batch(256)\n",
    "        \n",
    "        #run optimization\n",
    "        _, c = sess.run([train_op, loss], feed_dict={X:batch_x, Y:batch_y})\n",
    "        if i % int(num_train/16.) ==0:\n",
    "            acc_train = sess.run(accuracy,feed_dict={X:batch_x, Y:batch_y})\n",
    "            acc_valid = sess.run(accuracy,feed_dict={X:mnist.validation.images, Y:mnist.validation.labels})\n",
    "            print(\"Epoch \"+str(i/int(num_train/16.))+\", Train Accuracy= {:.3f}\".format(acc_train))\n",
    "            print(\"Epoch \"+str(i/int(num_train/16.))+\", Valid Accuracy= {:.3f}\".format(acc_valid))\n",
    "            loss_log.append(c)\n",
    "    \n",
    "    print(\"Training finished!\")\n",
    "    \n",
    "    print(\"Testing Accuracy:\", sess.run(accuracy, feed_dict={X:mnist.test.images, Y:mnist.test.labels}) * 100, \"%\")\n",
    "    \n",
    "end = time.time()\n",
    "print(\"Took %f s\" % ((end - start)))\n",
    "\n",
    "plt.plot(loss_log,label='Loss')\n",
    "#plt.plot(val_log,label='val accuracy')\n",
    "plt.legend(loc='best')\n",
    "plt.grid()\n",
    "plt.show()    "
   ]
  },
  {
   "cell_type": "code",
   "execution_count": 12,
   "metadata": {},
   "outputs": [
    {
     "name": "stdout",
     "output_type": "stream",
     "text": [
      "Epoch 0.0, Train Accuracy= 0.065\n",
      "Epoch 0.0, Valid Accuracy= 0.075\n",
      "Epoch 1.0, Train Accuracy= 0.849\n",
      "Epoch 1.0, Valid Accuracy= 0.856\n",
      "Epoch 2.0, Train Accuracy= 0.892\n",
      "Epoch 2.0, Valid Accuracy= 0.876\n",
      "Epoch 3.0, Train Accuracy= 0.895\n",
      "Epoch 3.0, Valid Accuracy= 0.886\n",
      "Epoch 4.0, Train Accuracy= 0.897\n",
      "Epoch 4.0, Valid Accuracy= 0.890\n",
      "Epoch 5.0, Train Accuracy= 0.909\n",
      "Epoch 5.0, Valid Accuracy= 0.894\n",
      "Epoch 6.0, Train Accuracy= 0.891\n",
      "Epoch 6.0, Valid Accuracy= 0.900\n",
      "Epoch 7.0, Train Accuracy= 0.896\n",
      "Epoch 7.0, Valid Accuracy= 0.904\n",
      "Epoch 8.0, Train Accuracy= 0.917\n",
      "Epoch 8.0, Valid Accuracy= 0.908\n",
      "Epoch 9.0, Train Accuracy= 0.907\n",
      "Epoch 9.0, Valid Accuracy= 0.909\n",
      "Training finished!\n",
      "Testing Accuracy: 90.79999923706055 %\n",
      "Took 95.381342 s\n"
     ]
    },
    {
     "data": {
      "image/png": "[encoded data removed]",
      "text/plain": [
       "<Figure size 432x288 with 1 Axes>"
      ]
     },
     "metadata": {
      "needs_background": "light"
     },
     "output_type": "display_data"
    }
   ],
   "source": [
    "# Mini-batch size = 1024\n",
    "\n",
    "loss_log = []\n",
    "\n",
    "start = time.time()\n",
    "\n",
    "with tf.Session() as sess:\n",
    "    sess.run(init)\n",
    "    \n",
    "    for i in range(int(num_train/16.) * 10):\n",
    "        #fetch batch\n",
    "        batch_x, batch_y = mnist.train.next_batch(1024)\n",
    "        \n",
    "        #run optimization\n",
    "        _, c = sess.run([train_op, loss], feed_dict={X:batch_x, Y:batch_y})\n",
    "        if i % int(num_train/16.) ==0:\n",
    "            acc_train = sess.run(accuracy,feed_dict={X:batch_x, Y:batch_y})\n",
    "            acc_valid = sess.run(accuracy,feed_dict={X:mnist.validation.images, Y:mnist.validation.labels})\n",
    "            print(\"Epoch \"+str(i/int(num_train/16.))+\", Train Accuracy= {:.3f}\".format(acc_train))\n",
    "            print(\"Epoch \"+str(i/int(num_train/16.))+\", Valid Accuracy= {:.3f}\".format(acc_valid))\n",
    "            loss_log.append(c)\n",
    "    \n",
    "    print(\"Training finished!\")\n",
    "    \n",
    "    print(\"Testing Accuracy:\", sess.run(accuracy, feed_dict={X:mnist.test.images, Y:mnist.test.labels}) * 100, \"%\")\n",
    "    \n",
    "end = time.time()\n",
    "print(\"Took %f s\" % ((end - start)))\n",
    "\n",
    "plt.plot(loss_log,label='Loss')\n",
    "#plt.plot(val_log,label='val accuracy')\n",
    "plt.legend(loc='best')\n",
    "plt.grid()\n",
    "plt.show()    "
   ]
  },
  {
   "cell_type": "markdown",
   "metadata": {},
   "source": [
    "<h2> Observation </h2>"
   ]
  },
  {
   "cell_type": "markdown",
   "metadata": {},
   "source": [
    "<h3> We note that tensorflow seems lower the loss faster than numpy version. Also for tensorflow version, the testing accuracy seem to be more consistent throughout the batch size. Finally, unlike numpy version, the training time seems to take longer as the batch size increases </h3>"
   ]
  }
 ],
 "metadata": {
  "kernelspec": {
   "display_name": "Python 3",
   "language": "python",
   "name": "python3"
  },
  "language_info": {
   "codemirror_mode": {
    "name": "ipython",
    "version": 3
   },
   "file_extension": ".py",
   "mimetype": "text/x-python",
   "name": "python",
   "nbconvert_exporter": "python",
   "pygments_lexer": "ipython3",
   "version": "3.7.1"
  }
 },
 "nbformat": 4,
 "nbformat_minor": 2
}
