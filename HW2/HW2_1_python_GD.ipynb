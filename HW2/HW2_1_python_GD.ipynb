{
 "cells": [
  {
   "cell_type": "code",
   "execution_count": 1,
   "metadata": {},
   "outputs": [
    {
     "name": "stderr",
     "output_type": "stream",
     "text": [
      "Using TensorFlow backend.\n"
     ]
    }
   ],
   "source": [
    "%matplotlib inline\n",
    "\n",
    "import keras\n",
    "import matplotlib.pyplot as plt\n",
    "import numpy as np\n",
    "import time\n",
    "import hw1_p1_script as hw1\n",
    "\n",
    "\"\"\" \n",
    "This part constructs training, validation and testing inputs for MNIST dataset (Part A)\n",
    "\n",
    "\"\"\"\n",
    "\n",
    "def load_dataset(flatten=False):\n",
    "    (X_train, y_train), (X_test, y_test) = keras.datasets.mnist.load_data()\n",
    "    # normalize x\n",
    "    X_train = X_train.astype(float) / 255.\n",
    "    X_test = X_test.astype(float) / 255.\n",
    "    \n",
    "    # Reserve the last 5000 training examples for validation\n",
    "    X_train, X_val = X_train[:-5000], X_train[-5000:]\n",
    "    y_train, y_val = y_train[:-5000], y_train[-5000:]\n",
    "    \n",
    "    if flatten:\n",
    "        X_train = X_train.reshape([X_train.shape[0], -1])\n",
    "        X_val = X_val.reshape([X_val.shape[0], -1])\n",
    "        X_test = X_test.reshape([X_test.shape[0], -1])\n",
    "    return X_train, y_train, X_val, y_val, X_test, y_test\n",
    "\n",
    "X_train, y_train, X_val, y_val, X_test, y_test = load_dataset(flatten=True)"
   ]
  },
  {
   "cell_type": "code",
   "execution_count": 2,
   "metadata": {},
   "outputs": [],
   "source": [
    "\"\"\" \n",
    "forward function outputs the logits when given the input X (Part A)\n",
    "\n",
    "\"\"\"\n",
    "\n",
    "def forward(network, X):\n",
    "    \n",
    "    activations = []\n",
    "    input = X\n",
    "    # Looping through each layer\n",
    "    for l in network:\n",
    "        activations.append(l.forward(input))\n",
    "        # final input is last layer output\n",
    "        input = activations[-1]\n",
    "        \n",
    "    return activations\n",
    "\n",
    "def predict(network,X):\n",
    "   \n",
    "    logits = forward(network,X)[-1]\n",
    "    return logits.argmax(axis=-1)\n",
    "\n",
    "def train(network,X,y,t):\n",
    "    \n",
    "    \"\"\" \n",
    "    Train function first propagates the input forward in network and then computes loss (Part B)\n",
    "\n",
    "    \"\"\"\n",
    "    \n",
    "    layer_activations = forward(network,X)\n",
    "    layer_inputs = [X]+layer_activations\n",
    "    logits = layer_activations[-1]\n",
    "    \n",
    "    loss = hw1.softmax_crossentropy(logits,y)\n",
    "    \n",
    "    \"\"\" \n",
    "    grad_softmax_crossentropy computes the gradient for the cost (Part C)\n",
    "\n",
    "    \"\"\"\n",
    "    loss_grad = hw1.grad_softmax_crossentropy(logits,y)\n",
    "    \n",
    "    \"\"\" \n",
    "    Back-propagation is the for loop that executes Dense.backward() function from last layer to the first layer (Part D)\n",
    "\n",
    "    \"\"\"\n",
    "    for layer_index in range(len(network))[::-1]:\n",
    "        layer = network[layer_index]\n",
    "        \n",
    "        loss_grad = layer.backward(layer_inputs[layer_index],loss_grad,t) \n",
    "        \n",
    "    return np.mean(loss)"
   ]
  },
  {
   "cell_type": "code",
   "execution_count": 3,
   "metadata": {},
   "outputs": [],
   "source": [
    "from tqdm import trange\n",
    "\n",
    "def iterate_minibatches(inputs, targets, batchsize, shuffle=False):\n",
    "    \n",
    "    if shuffle:\n",
    "        indices = np.random.permutation(len(inputs))\n",
    "    for start_idx in trange(0, len(inputs) - batchsize + 1, batchsize):\n",
    "        if shuffle:\n",
    "            sect = indices[start_idx:start_idx + batchsize]\n",
    "        else:\n",
    "            sect = slice(start_idx, start_idx + batchsize)\n",
    "        yield inputs[sect], targets[sect]"
   ]
  },
  {
   "cell_type": "code",
   "execution_count": 4,
   "metadata": {
    "scrolled": false
   },
   "outputs": [
    {
     "name": "stderr",
     "output_type": "stream",
     "text": [
      "100%|████████████████████████████████████████████████████████████████████████████| 3437/3437 [00:01<00:00, 2676.84it/s]\n"
     ]
    },
    {
     "name": "stdout",
     "output_type": "stream",
     "text": [
      "Epoch 0\n",
      "Train accuracy: 0.9110545454545455\n",
      "Val accuracy: 0.9318\n",
      "Loss: 0.29903845883357194\n"
     ]
    },
    {
     "name": "stderr",
     "output_type": "stream",
     "text": [
      "100%|████████████████████████████████████████████████████████████████████████████| 3437/3437 [00:01<00:00, 2674.13it/s]\n"
     ]
    },
    {
     "name": "stdout",
     "output_type": "stream",
     "text": [
      "Epoch 1\n",
      "Train accuracy: 0.9281272727272727\n",
      "Val accuracy: 0.9488\n",
      "Loss: 0.03376551299362318\n"
     ]
    },
    {
     "name": "stderr",
     "output_type": "stream",
     "text": [
      "100%|████████████████████████████████████████████████████████████████████████████| 3437/3437 [00:01<00:00, 2674.14it/s]\n"
     ]
    },
    {
     "name": "stdout",
     "output_type": "stream",
     "text": [
      "Epoch 2\n",
      "Train accuracy: 0.9387454545454545\n",
      "Val accuracy: 0.9558\n",
      "Loss: 0.34885720925650693\n"
     ]
    },
    {
     "name": "stderr",
     "output_type": "stream",
     "text": [
      "100%|████████████████████████████████████████████████████████████████████████████| 3437/3437 [00:01<00:00, 2662.12it/s]\n"
     ]
    },
    {
     "name": "stdout",
     "output_type": "stream",
     "text": [
      "Epoch 3\n",
      "Train accuracy: 0.9458727272727273\n",
      "Val accuracy: 0.9584\n",
      "Loss: 0.2626277974565213\n"
     ]
    },
    {
     "name": "stderr",
     "output_type": "stream",
     "text": [
      "100%|████████████████████████████████████████████████████████████████████████████| 3437/3437 [00:01<00:00, 2612.20it/s]\n"
     ]
    },
    {
     "name": "stdout",
     "output_type": "stream",
     "text": [
      "Epoch 4\n",
      "Train accuracy: 0.9508909090909091\n",
      "Val accuracy: 0.9634\n",
      "Loss: 0.6346767043716897\n"
     ]
    },
    {
     "name": "stderr",
     "output_type": "stream",
     "text": [
      "100%|████████████████████████████████████████████████████████████████████████████| 3437/3437 [00:01<00:00, 2705.99it/s]\n"
     ]
    },
    {
     "name": "stdout",
     "output_type": "stream",
     "text": [
      "Epoch 5\n",
      "Train accuracy: 0.9560363636363637\n",
      "Val accuracy: 0.9664\n",
      "Loss: 0.28070278618520605\n"
     ]
    },
    {
     "name": "stderr",
     "output_type": "stream",
     "text": [
      "100%|████████████████████████████████████████████████████████████████████████████| 3437/3437 [00:01<00:00, 2660.62it/s]\n"
     ]
    },
    {
     "name": "stdout",
     "output_type": "stream",
     "text": [
      "Epoch 6\n",
      "Train accuracy: 0.9607818181818182\n",
      "Val accuracy: 0.9694\n",
      "Loss: 0.06137442117313746\n"
     ]
    },
    {
     "name": "stderr",
     "output_type": "stream",
     "text": [
      "100%|████████████████████████████████████████████████████████████████████████████| 3437/3437 [00:01<00:00, 2613.73it/s]\n"
     ]
    },
    {
     "name": "stdout",
     "output_type": "stream",
     "text": [
      "Epoch 7\n",
      "Train accuracy: 0.9641454545454545\n",
      "Val accuracy: 0.9718\n",
      "Loss: 0.049029389127543455\n"
     ]
    },
    {
     "name": "stderr",
     "output_type": "stream",
     "text": [
      "100%|████████████████████████████████████████████████████████████████████████████| 3437/3437 [00:01<00:00, 2686.76it/s]\n"
     ]
    },
    {
     "name": "stdout",
     "output_type": "stream",
     "text": [
      "Epoch 8\n",
      "Train accuracy: 0.9666181818181818\n",
      "Val accuracy: 0.9732\n",
      "Loss: 0.014997497468923537\n"
     ]
    },
    {
     "name": "stderr",
     "output_type": "stream",
     "text": [
      "100%|████████████████████████████████████████████████████████████████████████████| 3437/3437 [00:01<00:00, 2622.87it/s]\n"
     ]
    },
    {
     "name": "stdout",
     "output_type": "stream",
     "text": [
      "Epoch 9\n",
      "Train accuracy: 0.9692909090909091\n",
      "Val accuracy: 0.9738\n",
      "Loss: 0.026683255089141322\n",
      "Took 14.246474 s\n"
     ]
    },
    {
     "data": {
      "image/png": "[encoded data removed]",
      "text/plain": [
       "<Figure size 432x288 with 1 Axes>"
      ]
     },
     "metadata": {
      "needs_background": "light"
     },
     "output_type": "display_data"
    },
    {
     "name": "stdout",
     "output_type": "stream",
     "text": [
      "Test accuracy: 96.39 %\n"
     ]
    }
   ],
   "source": [
    "# Mini-batch size = 16\n",
    "\n",
    "\"\"\" \n",
    "For each mini batch scenario, the layers are defined by appending the Dense class into network list (Part A)\n",
    "For each epoch, the cost is plotted (Part E)\n",
    "\n",
    "\"\"\"\n",
    "network = []\n",
    "network.append(hw1.Dense(X_train.shape[1],100))\n",
    "network.append(hw1.ReLU())\n",
    "network.append(hw1.Dense(100,10))\n",
    "\n",
    "train_log = []\n",
    "val_log = []\n",
    "loss_log = []\n",
    "\n",
    "t = 0\n",
    "\n",
    "start = time.time()\n",
    "\n",
    "for epoch in range(10):\n",
    "\n",
    "    for x_batch,y_batch in iterate_minibatches(X_train,y_train,batchsize=16,shuffle=True):\n",
    "        \n",
    "        t += 1\n",
    "        \n",
    "        loss = train(network,x_batch,y_batch,t)\n",
    "    \n",
    "    train_log.append(np.mean(predict(network,X_train)==y_train))\n",
    "    val_log.append(np.mean(predict(network,X_val)==y_val))\n",
    "    loss_log.append(loss)\n",
    "    \n",
    "    print(\"Epoch\",epoch)\n",
    "    print(\"Train accuracy:\",train_log[-1])\n",
    "    print(\"Val accuracy:\",val_log[-1])\n",
    "    print(\"Loss:\",loss_log[-1])\n",
    "    \n",
    "end = time.time()\n",
    "print(\"Took %f s\" % ((end - start)))\n",
    "\n",
    "plt.plot(loss_log,label='Loss')\n",
    "#plt.plot(val_log,label='val accuracy')\n",
    "plt.legend(loc='best')\n",
    "plt.grid()\n",
    "plt.show()    \n",
    "test_accuracy = np.mean(predict(network,X_test)==y_test) * 100\n",
    "print(\"Test accuracy:\",test_accuracy, \"%\")"
   ]
  },
  {
   "cell_type": "code",
   "execution_count": 5,
   "metadata": {
    "scrolled": false
   },
   "outputs": [
    {
     "name": "stderr",
     "output_type": "stream",
     "text": [
      "100%|██████████████████████████████████████████████████████████████████████████████| 859/859 [00:00<00:00, 1697.63it/s]\n"
     ]
    },
    {
     "name": "stdout",
     "output_type": "stream",
     "text": [
      "Epoch 0\n",
      "Train accuracy: 0.8713636363636363\n",
      "Val accuracy: 0.9066\n",
      "Loss: 0.4674529939630049\n"
     ]
    },
    {
     "name": "stderr",
     "output_type": "stream",
     "text": [
      "100%|██████████████████████████████████████████████████████████████████████████████| 859/859 [00:00<00:00, 1657.07it/s]\n"
     ]
    },
    {
     "name": "stdout",
     "output_type": "stream",
     "text": [
      "Epoch 1\n",
      "Train accuracy: 0.8914363636363636\n",
      "Val accuracy: 0.9204\n",
      "Loss: 0.32013266267708895\n"
     ]
    },
    {
     "name": "stderr",
     "output_type": "stream",
     "text": [
      "100%|██████████████████████████████████████████████████████████████████████████████| 859/859 [00:00<00:00, 1753.09it/s]\n"
     ]
    },
    {
     "name": "stdout",
     "output_type": "stream",
     "text": [
      "Epoch 2\n",
      "Train accuracy: 0.9014909090909091\n",
      "Val accuracy: 0.9254\n",
      "Loss: 0.34014870859954216\n"
     ]
    },
    {
     "name": "stderr",
     "output_type": "stream",
     "text": [
      "100%|██████████████████████████████████████████████████████████████████████████████| 859/859 [00:00<00:00, 1654.97it/s]\n"
     ]
    },
    {
     "name": "stdout",
     "output_type": "stream",
     "text": [
      "Epoch 3\n",
      "Train accuracy: 0.9096909090909091\n",
      "Val accuracy: 0.9324\n",
      "Loss: 0.3700245698929488\n"
     ]
    },
    {
     "name": "stderr",
     "output_type": "stream",
     "text": [
      "100%|██████████████████████████████████████████████████████████████████████████████| 859/859 [00:00<00:00, 1721.44it/s]\n"
     ]
    },
    {
     "name": "stdout",
     "output_type": "stream",
     "text": [
      "Epoch 4\n",
      "Train accuracy: 0.9148\n",
      "Val accuracy: 0.937\n",
      "Loss: 0.30026883407834276\n"
     ]
    },
    {
     "name": "stderr",
     "output_type": "stream",
     "text": [
      "100%|██████████████████████████████████████████████████████████████████████████████| 859/859 [00:00<00:00, 1618.98it/s]\n"
     ]
    },
    {
     "name": "stdout",
     "output_type": "stream",
     "text": [
      "Epoch 5\n",
      "Train accuracy: 0.9200727272727273\n",
      "Val accuracy: 0.9392\n",
      "Loss: 0.3231776315337713\n"
     ]
    },
    {
     "name": "stderr",
     "output_type": "stream",
     "text": [
      "100%|██████████████████████████████████████████████████████████████████████████████| 859/859 [00:00<00:00, 1666.56it/s]\n"
     ]
    },
    {
     "name": "stdout",
     "output_type": "stream",
     "text": [
      "Epoch 6\n",
      "Train accuracy: 0.9244181818181818\n",
      "Val accuracy: 0.942\n",
      "Loss: 0.1624216056398324\n"
     ]
    },
    {
     "name": "stderr",
     "output_type": "stream",
     "text": [
      "100%|██████████████████████████████████████████████████████████████████████████████| 859/859 [00:00<00:00, 1621.36it/s]\n"
     ]
    },
    {
     "name": "stdout",
     "output_type": "stream",
     "text": [
      "Epoch 7\n",
      "Train accuracy: 0.9271636363636364\n",
      "Val accuracy: 0.9446\n",
      "Loss: 0.323672614641484\n"
     ]
    },
    {
     "name": "stderr",
     "output_type": "stream",
     "text": [
      "100%|██████████████████████████████████████████████████████████████████████████████| 859/859 [00:00<00:00, 1745.41it/s]\n"
     ]
    },
    {
     "name": "stdout",
     "output_type": "stream",
     "text": [
      "Epoch 8\n",
      "Train accuracy: 0.9307090909090909\n",
      "Val accuracy: 0.9454\n",
      "Loss: 0.3603579013033008\n"
     ]
    },
    {
     "name": "stderr",
     "output_type": "stream",
     "text": [
      "100%|██████████████████████████████████████████████████████████████████████████████| 859/859 [00:00<00:00, 1700.86it/s]\n"
     ]
    },
    {
     "name": "stdout",
     "output_type": "stream",
     "text": [
      "Epoch 9\n",
      "Train accuracy: 0.9335272727272728\n",
      "Val accuracy: 0.9486\n",
      "Loss: 0.13994940019825783\n",
      "Took 6.435628 s\n"
     ]
    },
    {
     "data": {
      "image/png": "[encoded data removed]",
      "text/plain": [
       "<Figure size 432x288 with 1 Axes>"
      ]
     },
     "metadata": {
      "needs_background": "light"
     },
     "output_type": "display_data"
    },
    {
     "name": "stdout",
     "output_type": "stream",
     "text": [
      "Test accuracy: 93.69 %\n"
     ]
    }
   ],
   "source": [
    "# Mini-batch size = 64\n",
    "\n",
    "network = []\n",
    "network.append(hw1.Dense(X_train.shape[1],100))\n",
    "network.append(hw1.ReLU())\n",
    "network.append(hw1.Dense(100,10))\n",
    "\n",
    "train_log = []\n",
    "val_log = []\n",
    "loss_log = []\n",
    "\n",
    "t = 0\n",
    "\n",
    "start = time.time()\n",
    "\n",
    "for epoch in range(10):\n",
    "\n",
    "    for x_batch,y_batch in iterate_minibatches(X_train,y_train,batchsize=64,shuffle=True):\n",
    "        \n",
    "        t += 1\n",
    "        \n",
    "        loss = train(network,x_batch,y_batch,t)\n",
    "    \n",
    "    train_log.append(np.mean(predict(network,X_train)==y_train))\n",
    "    val_log.append(np.mean(predict(network,X_val)==y_val))\n",
    "    loss_log.append(loss)\n",
    "    \n",
    "    print(\"Epoch\",epoch)\n",
    "    print(\"Train accuracy:\",train_log[-1])\n",
    "    print(\"Val accuracy:\",val_log[-1])\n",
    "    print(\"Loss:\",loss_log[-1])\n",
    "    \n",
    "end = time.time()\n",
    "print(\"Took %f s\" % ((end - start)))\n",
    "\n",
    "plt.plot(loss_log,label='Loss')\n",
    "#plt.plot(val_log,label='val accuracy')\n",
    "plt.legend(loc='best')\n",
    "plt.grid()\n",
    "plt.show()    \n",
    "test_accuracy = np.mean(predict(network,X_test)==y_test) * 100\n",
    "print(\"Test accuracy:\",test_accuracy, \"%\")"
   ]
  },
  {
   "cell_type": "code",
   "execution_count": 6,
   "metadata": {},
   "outputs": [
    {
     "name": "stderr",
     "output_type": "stream",
     "text": [
      "100%|███████████████████████████████████████████████████████████████████████████████| 214/214 [00:00<00:00, 403.80it/s]\n"
     ]
    },
    {
     "name": "stdout",
     "output_type": "stream",
     "text": [
      "Epoch 0\n",
      "Train accuracy: 0.7763818181818182\n",
      "Val accuracy: 0.8134\n",
      "Loss: 1.0618123149794614\n"
     ]
    },
    {
     "name": "stderr",
     "output_type": "stream",
     "text": [
      "100%|███████████████████████████████████████████████████████████████████████████████| 214/214 [00:00<00:00, 400.95it/s]\n"
     ]
    },
    {
     "name": "stdout",
     "output_type": "stream",
     "text": [
      "Epoch 1\n",
      "Train accuracy: 0.8404\n",
      "Val accuracy: 0.882\n",
      "Loss: 0.6766078241687201\n"
     ]
    },
    {
     "name": "stderr",
     "output_type": "stream",
     "text": [
      "100%|███████████████████████████████████████████████████████████████████████████████| 214/214 [00:00<00:00, 397.74it/s]\n"
     ]
    },
    {
     "name": "stdout",
     "output_type": "stream",
     "text": [
      "Epoch 2\n",
      "Train accuracy: 0.8636727272727273\n",
      "Val accuracy: 0.9004\n",
      "Loss: 0.5615769962518296\n"
     ]
    },
    {
     "name": "stderr",
     "output_type": "stream",
     "text": [
      "100%|███████████████████████████████████████████████████████████████████████████████| 214/214 [00:00<00:00, 402.46it/s]\n"
     ]
    },
    {
     "name": "stdout",
     "output_type": "stream",
     "text": [
      "Epoch 3\n",
      "Train accuracy: 0.8756\n",
      "Val accuracy: 0.9102\n",
      "Loss: 0.4269073577676357\n"
     ]
    },
    {
     "name": "stderr",
     "output_type": "stream",
     "text": [
      "100%|███████████████████████████████████████████████████████████████████████████████| 214/214 [00:00<00:00, 396.40it/s]\n"
     ]
    },
    {
     "name": "stdout",
     "output_type": "stream",
     "text": [
      "Epoch 4\n",
      "Train accuracy: 0.8826181818181819\n",
      "Val accuracy: 0.9154\n",
      "Loss: 0.3938216647305174\n"
     ]
    },
    {
     "name": "stderr",
     "output_type": "stream",
     "text": [
      "100%|███████████████████████████████████████████████████████████████████████████████| 214/214 [00:00<00:00, 394.64it/s]\n"
     ]
    },
    {
     "name": "stdout",
     "output_type": "stream",
     "text": [
      "Epoch 5\n",
      "Train accuracy: 0.8885454545454545\n",
      "Val accuracy: 0.9204\n",
      "Loss: 0.39471012586538434\n"
     ]
    },
    {
     "name": "stderr",
     "output_type": "stream",
     "text": [
      "100%|███████████████████████████████████████████████████████████████████████████████| 214/214 [00:00<00:00, 404.97it/s]\n"
     ]
    },
    {
     "name": "stdout",
     "output_type": "stream",
     "text": [
      "Epoch 6\n",
      "Train accuracy: 0.8929818181818182\n",
      "Val accuracy: 0.9226\n",
      "Loss: 0.39686934575798305\n"
     ]
    },
    {
     "name": "stderr",
     "output_type": "stream",
     "text": [
      "100%|███████████████████████████████████████████████████████████████████████████████| 214/214 [00:00<00:00, 412.33it/s]\n"
     ]
    },
    {
     "name": "stdout",
     "output_type": "stream",
     "text": [
      "Epoch 7\n",
      "Train accuracy: 0.8955090909090909\n",
      "Val accuracy: 0.9232\n",
      "Loss: 0.41645857009847664\n"
     ]
    },
    {
     "name": "stderr",
     "output_type": "stream",
     "text": [
      "100%|███████████████████████████████████████████████████████████████████████████████| 214/214 [00:00<00:00, 415.41it/s]\n"
     ]
    },
    {
     "name": "stdout",
     "output_type": "stream",
     "text": [
      "Epoch 8\n",
      "Train accuracy: 0.899309090909091\n",
      "Val accuracy: 0.9252\n",
      "Loss: 0.37631217679506856\n"
     ]
    },
    {
     "name": "stderr",
     "output_type": "stream",
     "text": [
      "100%|███████████████████████████████████████████████████████████████████████████████| 214/214 [00:00<00:00, 408.04it/s]\n"
     ]
    },
    {
     "name": "stdout",
     "output_type": "stream",
     "text": [
      "Epoch 9\n",
      "Train accuracy: 0.9016363636363637\n",
      "Val accuracy: 0.927\n",
      "Loss: 0.3122521662765602\n",
      "Took 6.628797 s\n"
     ]
    },
    {
     "data": {
      "image/png": "[encoded data removed]",
      "text/plain": [
       "<Figure size 432x288 with 1 Axes>"
      ]
     },
     "metadata": {
      "needs_background": "light"
     },
     "output_type": "display_data"
    },
    {
     "name": "stdout",
     "output_type": "stream",
     "text": [
      "Test accuracy: 90.75 %\n"
     ]
    }
   ],
   "source": [
    "# Mini-batch size = 256\n",
    "\n",
    "network = []\n",
    "network.append(hw1.Dense(X_train.shape[1],100))\n",
    "network.append(hw1.ReLU())\n",
    "network.append(hw1.Dense(100,10))\n",
    "\n",
    "train_log = []\n",
    "val_log = []\n",
    "loss_log = []\n",
    "\n",
    "t = 0\n",
    "\n",
    "start = time.time()\n",
    "\n",
    "for epoch in range(10):\n",
    "\n",
    "    for x_batch,y_batch in iterate_minibatches(X_train,y_train,batchsize=256,shuffle=True):\n",
    "        \n",
    "        t += 1\n",
    "        \n",
    "        loss = train(network,x_batch,y_batch,t)\n",
    "    \n",
    "    train_log.append(np.mean(predict(network,X_train)==y_train))\n",
    "    val_log.append(np.mean(predict(network,X_val)==y_val))\n",
    "    loss_log.append(loss)\n",
    "    \n",
    "    print(\"Epoch\",epoch)\n",
    "    print(\"Train accuracy:\",train_log[-1])\n",
    "    print(\"Val accuracy:\",val_log[-1])\n",
    "    print(\"Loss:\",loss_log[-1])\n",
    "    \n",
    "end = time.time()\n",
    "print(\"Took %f s\" % ((end - start)))\n",
    "\n",
    "plt.plot(loss_log,label='Loss')\n",
    "#plt.plot(val_log,label='val accuracy')\n",
    "plt.legend(loc='best')\n",
    "plt.grid()\n",
    "plt.show()    \n",
    "test_accuracy = np.mean(predict(network,X_test)==y_test) * 100\n",
    "print(\"Test accuracy:\",test_accuracy, \"%\")"
   ]
  },
  {
   "cell_type": "code",
   "execution_count": 7,
   "metadata": {},
   "outputs": [
    {
     "name": "stderr",
     "output_type": "stream",
     "text": [
      "100%|█████████████████████████████████████████████████████████████████████████████████| 53/53 [00:00<00:00, 105.60it/s]\n"
     ]
    },
    {
     "name": "stdout",
     "output_type": "stream",
     "text": [
      "Epoch 0\n",
      "Train accuracy: 0.46698181818181816\n",
      "Val accuracy: 0.5026\n",
      "Loss: 1.9673781686329164\n"
     ]
    },
    {
     "name": "stderr",
     "output_type": "stream",
     "text": [
      "100%|█████████████████████████████████████████████████████████████████████████████████| 53/53 [00:00<00:00, 104.88it/s]\n"
     ]
    },
    {
     "name": "stdout",
     "output_type": "stream",
     "text": [
      "Epoch 1\n",
      "Train accuracy: 0.6434727272727273\n",
      "Val accuracy: 0.6744\n",
      "Loss: 1.5925246739883319\n"
     ]
    },
    {
     "name": "stderr",
     "output_type": "stream",
     "text": [
      "100%|█████████████████████████████████████████████████████████████████████████████████| 53/53 [00:00<00:00, 102.72it/s]\n"
     ]
    },
    {
     "name": "stdout",
     "output_type": "stream",
     "text": [
      "Epoch 2\n",
      "Train accuracy: 0.7213272727272727\n",
      "Val accuracy: 0.7594\n",
      "Loss: 1.2844292359724796\n"
     ]
    },
    {
     "name": "stderr",
     "output_type": "stream",
     "text": [
      "100%|█████████████████████████████████████████████████████████████████████████████████| 53/53 [00:00<00:00, 111.14it/s]\n"
     ]
    },
    {
     "name": "stdout",
     "output_type": "stream",
     "text": [
      "Epoch 3\n",
      "Train accuracy: 0.7662909090909091\n",
      "Val accuracy: 0.8096\n",
      "Loss: 1.1022808332006453\n"
     ]
    },
    {
     "name": "stderr",
     "output_type": "stream",
     "text": [
      "100%|█████████████████████████████████████████████████████████████████████████████████| 53/53 [00:00<00:00, 108.97it/s]\n"
     ]
    },
    {
     "name": "stdout",
     "output_type": "stream",
     "text": [
      "Epoch 4\n",
      "Train accuracy: 0.7947272727272727\n",
      "Val accuracy: 0.8412\n",
      "Loss: 0.951162969526189\n"
     ]
    },
    {
     "name": "stderr",
     "output_type": "stream",
     "text": [
      "100%|█████████████████████████████████████████████████████████████████████████████████| 53/53 [00:00<00:00, 107.16it/s]\n"
     ]
    },
    {
     "name": "stdout",
     "output_type": "stream",
     "text": [
      "Epoch 5\n",
      "Train accuracy: 0.8127090909090909\n",
      "Val accuracy: 0.856\n",
      "Loss: 0.8558591695363671\n"
     ]
    },
    {
     "name": "stderr",
     "output_type": "stream",
     "text": [
      "100%|█████████████████████████████████████████████████████████████████████████████████| 53/53 [00:00<00:00, 108.59it/s]\n"
     ]
    },
    {
     "name": "stdout",
     "output_type": "stream",
     "text": [
      "Epoch 6\n",
      "Train accuracy: 0.8258181818181818\n",
      "Val accuracy: 0.8676\n",
      "Loss: 0.7451084795167839\n"
     ]
    },
    {
     "name": "stderr",
     "output_type": "stream",
     "text": [
      "100%|█████████████████████████████████████████████████████████████████████████████████| 53/53 [00:00<00:00, 109.18it/s]\n"
     ]
    },
    {
     "name": "stdout",
     "output_type": "stream",
     "text": [
      "Epoch 7\n",
      "Train accuracy: 0.8367818181818182\n",
      "Val accuracy: 0.875\n",
      "Loss: 0.7318164642163276\n"
     ]
    },
    {
     "name": "stderr",
     "output_type": "stream",
     "text": [
      "100%|█████████████████████████████████████████████████████████████████████████████████| 53/53 [00:00<00:00, 114.20it/s]\n"
     ]
    },
    {
     "name": "stdout",
     "output_type": "stream",
     "text": [
      "Epoch 8\n",
      "Train accuracy: 0.843\n",
      "Val accuracy: 0.881\n",
      "Loss: 0.6628082529817834\n"
     ]
    },
    {
     "name": "stderr",
     "output_type": "stream",
     "text": [
      "100%|█████████████████████████████████████████████████████████████████████████████████| 53/53 [00:00<00:00, 109.59it/s]\n"
     ]
    },
    {
     "name": "stdout",
     "output_type": "stream",
     "text": [
      "Epoch 9\n",
      "Train accuracy: 0.8492545454545455\n",
      "Val accuracy: 0.8866\n",
      "Loss: 0.5889409117663619\n",
      "Took 6.225822 s\n"
     ]
    },
    {
     "data": {
      "image/png": "[encoded data removed]",
      "text/plain": [
       "<Figure size 432x288 with 1 Axes>"
      ]
     },
     "metadata": {
      "needs_background": "light"
     },
     "output_type": "display_data"
    },
    {
     "name": "stdout",
     "output_type": "stream",
     "text": [
      "Test accuracy: 86.19 %\n"
     ]
    }
   ],
   "source": [
    "# Mini-batch size = 1024\n",
    "\n",
    "network = []\n",
    "network.append(hw1.Dense(X_train.shape[1],100))\n",
    "network.append(hw1.ReLU())\n",
    "network.append(hw1.Dense(100,10))\n",
    "\n",
    "train_log = []\n",
    "val_log = []\n",
    "loss_log = []\n",
    "\n",
    "t = 0\n",
    "\n",
    "start = time.time()\n",
    "\n",
    "for epoch in range(10):\n",
    "\n",
    "    for x_batch,y_batch in iterate_minibatches(X_train,y_train,batchsize=1024,shuffle=True):\n",
    "        \n",
    "        t += 1\n",
    "        \n",
    "        loss = train(network,x_batch,y_batch,t)\n",
    "    \n",
    "    train_log.append(np.mean(predict(network,X_train)==y_train))\n",
    "    val_log.append(np.mean(predict(network,X_val)==y_val))\n",
    "    loss_log.append(loss)\n",
    "    \n",
    "    print(\"Epoch\",epoch)\n",
    "    print(\"Train accuracy:\",train_log[-1])\n",
    "    print(\"Val accuracy:\",val_log[-1])\n",
    "    print(\"Loss:\",loss_log[-1])\n",
    "    \n",
    "end = time.time()\n",
    "print(\"Took %f s\" % ((end - start)))\n",
    "\n",
    "plt.plot(loss_log,label='Loss')\n",
    "#plt.plot(val_log,label='val accuracy')\n",
    "plt.legend(loc='best')\n",
    "plt.grid()\n",
    "plt.show()    \n",
    "test_accuracy = np.mean(predict(network,X_test)==y_test) * 100\n",
    "print(\"Test accuracy:\",test_accuracy, \"%\")"
   ]
  }
 ],
 "metadata": {
  "kernelspec": {
   "display_name": "Python 3",
   "language": "python",
   "name": "python3"
  },
  "language_info": {
   "codemirror_mode": {
    "name": "ipython",
    "version": 3
   },
   "file_extension": ".py",
   "mimetype": "text/x-python",
   "name": "python",
   "nbconvert_exporter": "python",
   "pygments_lexer": "ipython3",
   "version": "3.7.1"
  }
 },
 "nbformat": 4,
 "nbformat_minor": 2
}
