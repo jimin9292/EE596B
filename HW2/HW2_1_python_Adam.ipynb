{
 "cells": [
  {
   "cell_type": "code",
   "execution_count": 1,
   "metadata": {},
   "outputs": [
    {
     "name": "stderr",
     "output_type": "stream",
     "text": [
      "Using TensorFlow backend.\n"
     ]
    }
   ],
   "source": [
    "%matplotlib inline\n",
    "\n",
    "import keras\n",
    "import matplotlib.pyplot as plt\n",
    "import numpy as np\n",
    "import time\n",
    "import hw1_p1_script as hw1\n",
    "\n",
    "def load_dataset(flatten=False):\n",
    "    (X_train, y_train), (X_test, y_test) = keras.datasets.mnist.load_data()\n",
    "    # normalize x\n",
    "    X_train = X_train.astype(float) / 255.\n",
    "    X_test = X_test.astype(float) / 255.\n",
    "    \n",
    "    # Reserve the last 5000 training examples for validation\n",
    "    X_train, X_val = X_train[:-5000], X_train[-5000:]\n",
    "    y_train, y_val = y_train[:-5000], y_train[-5000:]\n",
    "    \n",
    "    if flatten:\n",
    "        X_train = X_train.reshape([X_train.shape[0], -1])\n",
    "        X_val = X_val.reshape([X_val.shape[0], -1])\n",
    "        X_test = X_test.reshape([X_test.shape[0], -1])\n",
    "    return X_train, y_train, X_val, y_val, X_test, y_test\n",
    "\n",
    "X_train, y_train, X_val, y_val, X_test, y_test = load_dataset(flatten=True)"
   ]
  },
  {
   "cell_type": "code",
   "execution_count": 2,
   "metadata": {},
   "outputs": [],
   "source": [
    "def forward(network, X):\n",
    "    \n",
    "    activations = []\n",
    "    input = X\n",
    "\n",
    "    for l in network:\n",
    "        activations.append(l.forward(input))\n",
    "\n",
    "        input = activations[-1]\n",
    "    \n",
    "    return activations\n",
    "\n",
    "def predict(network,X):\n",
    "   \n",
    "    logits = forward(network,X)[-1]\n",
    "    return logits.argmax(axis=-1)\n",
    "\n",
    "def train(network,X,y,t):\n",
    "    \n",
    "    # Get the layer activations\n",
    "    layer_activations = forward(network,X)\n",
    "    layer_inputs = [X]+layer_activations  \n",
    "    logits = layer_activations[-1]\n",
    "    \n",
    "    # Compute the loss and the initial gradient\n",
    "    loss = hw1.softmax_crossentropy(logits,y)\n",
    "    loss_grad = hw1.grad_softmax_crossentropy(logits,y)\n",
    "    \n",
    "    # Propagate gradients through the network using ADAM optimizer\n",
    "    for layer_index in range(len(network))[::-1]:\n",
    "        layer = network[layer_index]\n",
    "        \n",
    "        loss_grad = layer.backward_adam(layer_inputs[layer_index],loss_grad,t) \n",
    "        \n",
    "    return np.mean(loss)"
   ]
  },
  {
   "cell_type": "code",
   "execution_count": 3,
   "metadata": {},
   "outputs": [],
   "source": [
    "from tqdm import trange\n",
    "\n",
    "def iterate_minibatches(inputs, targets, batchsize, shuffle=False):\n",
    "    \n",
    "    if shuffle:\n",
    "        indices = np.random.permutation(len(inputs))\n",
    "    for start_idx in trange(0, len(inputs) - batchsize + 1, batchsize):\n",
    "        if shuffle:\n",
    "            sect = indices[start_idx:start_idx + batchsize]\n",
    "        else:\n",
    "            sect = slice(start_idx, start_idx + batchsize)\n",
    "        yield inputs[sect], targets[sect]"
   ]
  },
  {
   "cell_type": "code",
   "execution_count": 4,
   "metadata": {
    "scrolled": false
   },
   "outputs": [
    {
     "name": "stderr",
     "output_type": "stream",
     "text": [
      "100%|████████████████████████████████████████████████████████████████████████████| 3437/3437 [00:03<00:00, 1070.44it/s]\n"
     ]
    },
    {
     "name": "stdout",
     "output_type": "stream",
     "text": [
      "Epoch 0\n",
      "Train accuracy: 0.9473818181818182\n",
      "Val accuracy: 0.9496\n",
      "Loss: 0.08149997315444446\n"
     ]
    },
    {
     "name": "stderr",
     "output_type": "stream",
     "text": [
      "100%|█████████████████████████████████████████████████████████████████████████████| 3437/3437 [00:03<00:00, 894.97it/s]\n"
     ]
    },
    {
     "name": "stdout",
     "output_type": "stream",
     "text": [
      "Epoch 1\n",
      "Train accuracy: 0.9556181818181818\n",
      "Val accuracy: 0.9536\n",
      "Loss: 0.0007681905372574072\n"
     ]
    },
    {
     "name": "stderr",
     "output_type": "stream",
     "text": [
      "100%|█████████████████████████████████████████████████████████████████████████████| 3437/3437 [00:07<00:00, 436.77it/s]\n"
     ]
    },
    {
     "name": "stdout",
     "output_type": "stream",
     "text": [
      "Epoch 2\n",
      "Train accuracy: 0.9598909090909091\n",
      "Val accuracy: 0.9592\n",
      "Loss: 0.23022356127999333\n"
     ]
    },
    {
     "name": "stderr",
     "output_type": "stream",
     "text": [
      "100%|█████████████████████████████████████████████████████████████████████████████| 3437/3437 [00:08<00:00, 392.81it/s]\n"
     ]
    },
    {
     "name": "stdout",
     "output_type": "stream",
     "text": [
      "Epoch 3\n",
      "Train accuracy: 0.9596545454545454\n",
      "Val accuracy: 0.9588\n",
      "Loss: 0.05876790065592036\n"
     ]
    },
    {
     "name": "stderr",
     "output_type": "stream",
     "text": [
      "100%|█████████████████████████████████████████████████████████████████████████████| 3437/3437 [00:09<00:00, 379.84it/s]\n"
     ]
    },
    {
     "name": "stdout",
     "output_type": "stream",
     "text": [
      "Epoch 4\n",
      "Train accuracy: 0.9562909090909091\n",
      "Val accuracy: 0.9566\n",
      "Loss: 0.4805339310036849\n"
     ]
    },
    {
     "name": "stderr",
     "output_type": "stream",
     "text": [
      "100%|█████████████████████████████████████████████████████████████████████████████| 3437/3437 [00:08<00:00, 391.33it/s]\n"
     ]
    },
    {
     "name": "stdout",
     "output_type": "stream",
     "text": [
      "Epoch 5\n",
      "Train accuracy: 0.9672909090909091\n",
      "Val accuracy: 0.9668\n",
      "Loss: 0.49232714159796664\n"
     ]
    },
    {
     "name": "stderr",
     "output_type": "stream",
     "text": [
      "100%|█████████████████████████████████████████████████████████████████████████████| 3437/3437 [00:09<00:00, 368.18it/s]\n"
     ]
    },
    {
     "name": "stdout",
     "output_type": "stream",
     "text": [
      "Epoch 6\n",
      "Train accuracy: 0.9689272727272727\n",
      "Val accuracy: 0.9636\n",
      "Loss: 0.13984850062449022\n"
     ]
    },
    {
     "name": "stderr",
     "output_type": "stream",
     "text": [
      "100%|█████████████████████████████████████████████████████████████████████████████| 3437/3437 [00:09<00:00, 359.17it/s]\n"
     ]
    },
    {
     "name": "stdout",
     "output_type": "stream",
     "text": [
      "Epoch 7\n",
      "Train accuracy: 0.9684\n",
      "Val accuracy: 0.9604\n",
      "Loss: 0.7024382041086829\n"
     ]
    },
    {
     "name": "stderr",
     "output_type": "stream",
     "text": [
      "100%|█████████████████████████████████████████████████████████████████████████████| 3437/3437 [00:09<00:00, 357.39it/s]\n"
     ]
    },
    {
     "name": "stdout",
     "output_type": "stream",
     "text": [
      "Epoch 8\n",
      "Train accuracy: 0.9723090909090909\n",
      "Val accuracy: 0.9678\n",
      "Loss: 0.002471880632675505\n"
     ]
    },
    {
     "name": "stderr",
     "output_type": "stream",
     "text": [
      "100%|█████████████████████████████████████████████████████████████████████████████| 3437/3437 [00:09<00:00, 359.08it/s]\n"
     ]
    },
    {
     "name": "stdout",
     "output_type": "stream",
     "text": [
      "Epoch 9\n",
      "Train accuracy: 0.9695090909090909\n",
      "Val accuracy: 0.9616\n",
      "Loss: 0.009895843636234636\n",
      "Took 81.026094 s\n"
     ]
    },
    {
     "data": {
      "image/png": "[encoded data removed]",
      "text/plain": [
       "<Figure size 432x288 with 1 Axes>"
      ]
     },
     "metadata": {
      "needs_background": "light"
     },
     "output_type": "display_data"
    },
    {
     "name": "stdout",
     "output_type": "stream",
     "text": [
      "Test accuracy: 95.66 %\n"
     ]
    }
   ],
   "source": [
    "# Mini-batch size = 16\n",
    "\n",
    "network = []\n",
    "network.append(hw1.Dense(X_train.shape[1],100))\n",
    "network.append(hw1.ReLU())\n",
    "network.append(hw1.Dense(100,10))\n",
    "\n",
    "train_log = []\n",
    "val_log = []\n",
    "loss_log = []\n",
    "\n",
    "t = 0\n",
    "\n",
    "start = time.time()\n",
    "\n",
    "for epoch in range(10):\n",
    "\n",
    "    for x_batch,y_batch in iterate_minibatches(X_train,y_train,batchsize=16,shuffle=True):\n",
    "        \n",
    "        t += 1\n",
    "        \n",
    "        loss = train(network,x_batch,y_batch,t)\n",
    "    \n",
    "    train_log.append(np.mean(predict(network,X_train)==y_train))\n",
    "    val_log.append(np.mean(predict(network,X_val)==y_val))\n",
    "    loss_log.append(loss)\n",
    "    \n",
    "    #clear_output()\n",
    "    print(\"Epoch\",epoch)\n",
    "    print(\"Train accuracy:\",train_log[-1])\n",
    "    print(\"Val accuracy:\",val_log[-1])\n",
    "    print(\"Loss:\",loss_log[-1])\n",
    "    \n",
    "end = time.time()\n",
    "print(\"Took %f s\" % ((end - start)))\n",
    "\n",
    "plt.plot(loss_log,label='Loss')\n",
    "#plt.plot(val_log,label='val accuracy')\n",
    "plt.legend(loc='best')\n",
    "plt.grid()\n",
    "plt.show()    \n",
    "test_accuracy = np.mean(predict(network,X_test)==y_test) * 100\n",
    "print(\"Test accuracy:\",test_accuracy, \"%\")"
   ]
  },
  {
   "cell_type": "code",
   "execution_count": 5,
   "metadata": {
    "scrolled": false
   },
   "outputs": [
    {
     "name": "stderr",
     "output_type": "stream",
     "text": [
      "100%|███████████████████████████████████████████████████████████████████████████████| 859/859 [00:01<00:00, 678.43it/s]\n"
     ]
    },
    {
     "name": "stdout",
     "output_type": "stream",
     "text": [
      "Epoch 0\n",
      "Train accuracy: 0.9639818181818182\n",
      "Val accuracy: 0.963\n",
      "Loss: 0.09576954646371144\n"
     ]
    },
    {
     "name": "stderr",
     "output_type": "stream",
     "text": [
      "100%|███████████████████████████████████████████████████████████████████████████████| 859/859 [00:01<00:00, 672.61it/s]\n"
     ]
    },
    {
     "name": "stdout",
     "output_type": "stream",
     "text": [
      "Epoch 1\n",
      "Train accuracy: 0.9606363636363636\n",
      "Val accuracy: 0.9548\n",
      "Loss: 0.02215591176787736\n"
     ]
    },
    {
     "name": "stderr",
     "output_type": "stream",
     "text": [
      "100%|███████████████████████████████████████████████████████████████████████████████| 859/859 [00:01<00:00, 666.34it/s]\n"
     ]
    },
    {
     "name": "stdout",
     "output_type": "stream",
     "text": [
      "Epoch 2\n",
      "Train accuracy: 0.9746727272727272\n",
      "Val accuracy: 0.9712\n",
      "Loss: 0.1799438168399681\n"
     ]
    },
    {
     "name": "stderr",
     "output_type": "stream",
     "text": [
      "100%|███████████████████████████████████████████████████████████████████████████████| 859/859 [00:01<00:00, 676.57it/s]\n"
     ]
    },
    {
     "name": "stdout",
     "output_type": "stream",
     "text": [
      "Epoch 3\n",
      "Train accuracy: 0.9782909090909091\n",
      "Val accuracy: 0.9712\n",
      "Loss: 0.10968647751529317\n"
     ]
    },
    {
     "name": "stderr",
     "output_type": "stream",
     "text": [
      "100%|███████████████████████████████████████████████████████████████████████████████| 859/859 [00:01<00:00, 690.12it/s]\n"
     ]
    },
    {
     "name": "stdout",
     "output_type": "stream",
     "text": [
      "Epoch 4\n",
      "Train accuracy: 0.9753454545454545\n",
      "Val accuracy: 0.9696\n",
      "Loss: 0.10851779217598874\n"
     ]
    },
    {
     "name": "stderr",
     "output_type": "stream",
     "text": [
      "100%|███████████████████████████████████████████████████████████████████████████████| 859/859 [00:01<00:00, 693.18it/s]\n"
     ]
    },
    {
     "name": "stdout",
     "output_type": "stream",
     "text": [
      "Epoch 5\n",
      "Train accuracy: 0.9765090909090909\n",
      "Val accuracy: 0.9676\n",
      "Loss: 0.29951053120121024\n"
     ]
    },
    {
     "name": "stderr",
     "output_type": "stream",
     "text": [
      "100%|███████████████████████████████████████████████████████████████████████████████| 859/859 [00:01<00:00, 854.43it/s]\n"
     ]
    },
    {
     "name": "stdout",
     "output_type": "stream",
     "text": [
      "Epoch 6\n",
      "Train accuracy: 0.9819636363636364\n",
      "Val accuracy: 0.9698\n",
      "Loss: 0.017853839850509465\n"
     ]
    },
    {
     "name": "stderr",
     "output_type": "stream",
     "text": [
      "100%|███████████████████████████████████████████████████████████████████████████████| 859/859 [00:01<00:00, 599.35it/s]\n"
     ]
    },
    {
     "name": "stdout",
     "output_type": "stream",
     "text": [
      "Epoch 7\n",
      "Train accuracy: 0.9805090909090909\n",
      "Val accuracy: 0.9676\n",
      "Loss: 0.3863235061778484\n"
     ]
    },
    {
     "name": "stderr",
     "output_type": "stream",
     "text": [
      "100%|███████████████████████████████████████████████████████████████████████████████| 859/859 [00:02<00:00, 391.31it/s]\n"
     ]
    },
    {
     "name": "stdout",
     "output_type": "stream",
     "text": [
      "Epoch 8\n",
      "Train accuracy: 0.984890909090909\n",
      "Val accuracy: 0.9742\n",
      "Loss: 0.04817696175514586\n"
     ]
    },
    {
     "name": "stderr",
     "output_type": "stream",
     "text": [
      "100%|███████████████████████████████████████████████████████████████████████████████| 859/859 [00:02<00:00, 391.40it/s]\n"
     ]
    },
    {
     "name": "stdout",
     "output_type": "stream",
     "text": [
      "Epoch 9\n",
      "Train accuracy: 0.9841636363636364\n",
      "Val accuracy: 0.9744\n",
      "Loss: 0.011547558185185242\n",
      "Took 15.603298 s\n"
     ]
    },
    {
     "data": {
      "image/png": "[encoded data removed]",
      "text/plain": [
       "<Figure size 432x288 with 1 Axes>"
      ]
     },
     "metadata": {
      "needs_background": "light"
     },
     "output_type": "display_data"
    },
    {
     "name": "stdout",
     "output_type": "stream",
     "text": [
      "Test accuracy: 96.66 %\n"
     ]
    }
   ],
   "source": [
    "# Mini-batch size = 64\n",
    "\n",
    "network = []\n",
    "network.append(hw1.Dense(X_train.shape[1],100))\n",
    "network.append(hw1.ReLU())\n",
    "network.append(hw1.Dense(100,10))\n",
    "\n",
    "train_log = []\n",
    "val_log = []\n",
    "loss_log = []\n",
    "\n",
    "t = 0\n",
    "\n",
    "start = time.time()\n",
    "\n",
    "for epoch in range(10):\n",
    "\n",
    "    for x_batch,y_batch in iterate_minibatches(X_train,y_train,batchsize=64,shuffle=True):\n",
    "        \n",
    "        t += 1\n",
    "        \n",
    "        loss = train(network,x_batch,y_batch,t)\n",
    "    \n",
    "    train_log.append(np.mean(predict(network,X_train)==y_train))\n",
    "    val_log.append(np.mean(predict(network,X_val)==y_val))\n",
    "    loss_log.append(loss)\n",
    "    \n",
    "    #clear_output()\n",
    "    print(\"Epoch\",epoch)\n",
    "    print(\"Train accuracy:\",train_log[-1])\n",
    "    print(\"Val accuracy:\",val_log[-1])\n",
    "    print(\"Loss:\",loss_log[-1])\n",
    "    \n",
    "end = time.time()\n",
    "print(\"Took %f s\" % ((end - start)))\n",
    "\n",
    "plt.plot(loss_log,label='Loss')\n",
    "#plt.plot(val_log,label='val accuracy')\n",
    "plt.legend(loc='best')\n",
    "plt.grid()\n",
    "plt.show()    \n",
    "test_accuracy = np.mean(predict(network,X_test)==y_test) * 100\n",
    "print(\"Test accuracy:\",test_accuracy, \"%\")"
   ]
  },
  {
   "cell_type": "code",
   "execution_count": 6,
   "metadata": {},
   "outputs": [
    {
     "name": "stderr",
     "output_type": "stream",
     "text": [
      "100%|███████████████████████████████████████████████████████████████████████████████| 214/214 [00:00<00:00, 283.44it/s]\n"
     ]
    },
    {
     "name": "stdout",
     "output_type": "stream",
     "text": [
      "Epoch 0\n",
      "Train accuracy: 0.9617454545454546\n",
      "Val accuracy: 0.9638\n",
      "Loss: 0.1681497858676841\n"
     ]
    },
    {
     "name": "stderr",
     "output_type": "stream",
     "text": [
      "100%|███████████████████████████████████████████████████████████████████████████████| 214/214 [00:00<00:00, 311.41it/s]\n"
     ]
    },
    {
     "name": "stdout",
     "output_type": "stream",
     "text": [
      "Epoch 1\n",
      "Train accuracy: 0.9735090909090909\n",
      "Val accuracy: 0.967\n",
      "Loss: 0.1245098101729778\n"
     ]
    },
    {
     "name": "stderr",
     "output_type": "stream",
     "text": [
      "100%|███████████████████████████████████████████████████████████████████████████████| 214/214 [00:00<00:00, 306.31it/s]\n"
     ]
    },
    {
     "name": "stdout",
     "output_type": "stream",
     "text": [
      "Epoch 2\n",
      "Train accuracy: 0.9792363636363637\n",
      "Val accuracy: 0.9726\n",
      "Loss: 0.038636574742580726\n"
     ]
    },
    {
     "name": "stderr",
     "output_type": "stream",
     "text": [
      "100%|███████████████████████████████████████████████████████████████████████████████| 214/214 [00:00<00:00, 316.47it/s]\n"
     ]
    },
    {
     "name": "stdout",
     "output_type": "stream",
     "text": [
      "Epoch 3\n",
      "Train accuracy: 0.9802545454545455\n",
      "Val accuracy: 0.972\n",
      "Loss: 0.06879050345785971\n"
     ]
    },
    {
     "name": "stderr",
     "output_type": "stream",
     "text": [
      "100%|███████████████████████████████████████████████████████████████████████████████| 214/214 [00:00<00:00, 313.69it/s]\n"
     ]
    },
    {
     "name": "stdout",
     "output_type": "stream",
     "text": [
      "Epoch 4\n",
      "Train accuracy: 0.9883818181818181\n",
      "Val accuracy: 0.9734\n",
      "Loss: 0.07361354813554252\n"
     ]
    },
    {
     "name": "stderr",
     "output_type": "stream",
     "text": [
      "100%|███████████████████████████████████████████████████████████████████████████████| 214/214 [00:00<00:00, 309.84it/s]\n"
     ]
    },
    {
     "name": "stdout",
     "output_type": "stream",
     "text": [
      "Epoch 5\n",
      "Train accuracy: 0.9860727272727273\n",
      "Val accuracy: 0.9724\n",
      "Loss: 0.1088272469041984\n"
     ]
    },
    {
     "name": "stderr",
     "output_type": "stream",
     "text": [
      "100%|███████████████████████████████████████████████████████████████████████████████| 214/214 [00:00<00:00, 315.77it/s]\n"
     ]
    },
    {
     "name": "stdout",
     "output_type": "stream",
     "text": [
      "Epoch 6\n",
      "Train accuracy: 0.9882727272727273\n",
      "Val accuracy: 0.9766\n",
      "Loss: 0.04514241851798873\n"
     ]
    },
    {
     "name": "stderr",
     "output_type": "stream",
     "text": [
      "100%|███████████████████████████████████████████████████████████████████████████████| 214/214 [00:00<00:00, 315.06it/s]\n"
     ]
    },
    {
     "name": "stdout",
     "output_type": "stream",
     "text": [
      "Epoch 7\n",
      "Train accuracy: 0.9910545454545454\n",
      "Val accuracy: 0.9742\n",
      "Loss: 0.07028113406838456\n"
     ]
    },
    {
     "name": "stderr",
     "output_type": "stream",
     "text": [
      "100%|███████████████████████████████████████████████████████████████████████████████| 214/214 [00:00<00:00, 314.61it/s]\n"
     ]
    },
    {
     "name": "stdout",
     "output_type": "stream",
     "text": [
      "Epoch 8\n",
      "Train accuracy: 0.9876\n",
      "Val accuracy: 0.976\n",
      "Loss: 0.009667306230670398\n"
     ]
    },
    {
     "name": "stderr",
     "output_type": "stream",
     "text": [
      "100%|███████████████████████████████████████████████████████████████████████████████| 214/214 [00:00<00:00, 298.01it/s]\n"
     ]
    },
    {
     "name": "stdout",
     "output_type": "stream",
     "text": [
      "Epoch 9\n",
      "Train accuracy: 0.9882363636363637\n",
      "Val accuracy: 0.9734\n",
      "Loss: 0.020256552686488488\n",
      "Took 8.195870 s\n"
     ]
    },
    {
     "data": {
      "image/png": "[encoded data removed]",
      "text/plain": [
       "<Figure size 432x288 with 1 Axes>"
      ]
     },
     "metadata": {
      "needs_background": "light"
     },
     "output_type": "display_data"
    },
    {
     "name": "stdout",
     "output_type": "stream",
     "text": [
      "Test accuracy: 97.03 %\n"
     ]
    }
   ],
   "source": [
    "# Mini-batch size = 256\n",
    "\n",
    "network = []\n",
    "network.append(hw1.Dense(X_train.shape[1],100))\n",
    "network.append(hw1.ReLU())\n",
    "network.append(hw1.Dense(100,10))\n",
    "\n",
    "train_log = []\n",
    "val_log = []\n",
    "loss_log = []\n",
    "\n",
    "t = 0\n",
    "\n",
    "start = time.time()\n",
    "\n",
    "for epoch in range(10):\n",
    "\n",
    "    for x_batch,y_batch in iterate_minibatches(X_train,y_train,batchsize=256,shuffle=True):\n",
    "        \n",
    "        t += 1\n",
    "        \n",
    "        loss = train(network,x_batch,y_batch,t)\n",
    "    \n",
    "    train_log.append(np.mean(predict(network,X_train)==y_train))\n",
    "    val_log.append(np.mean(predict(network,X_val)==y_val))\n",
    "    loss_log.append(loss)\n",
    "    \n",
    "    #clear_output()\n",
    "    print(\"Epoch\",epoch)\n",
    "    print(\"Train accuracy:\",train_log[-1])\n",
    "    print(\"Val accuracy:\",val_log[-1])\n",
    "    print(\"Loss:\",loss_log[-1])\n",
    "    \n",
    "end = time.time()\n",
    "print(\"Took %f s\" % ((end - start)))\n",
    "\n",
    "plt.plot(loss_log,label='Loss')\n",
    "#plt.plot(val_log,label='val accuracy')\n",
    "plt.legend(loc='best')\n",
    "plt.grid()\n",
    "plt.show()    \n",
    "test_accuracy = np.mean(predict(network,X_test)==y_test) * 100\n",
    "print(\"Test accuracy:\",test_accuracy, \"%\")"
   ]
  },
  {
   "cell_type": "code",
   "execution_count": 7,
   "metadata": {},
   "outputs": [
    {
     "name": "stderr",
     "output_type": "stream",
     "text": [
      "100%|██████████████████████████████████████████████████████████████████████████████████| 53/53 [00:00<00:00, 93.47it/s]\n"
     ]
    },
    {
     "name": "stdout",
     "output_type": "stream",
     "text": [
      "Epoch 0\n",
      "Train accuracy: 0.9359636363636363\n",
      "Val accuracy: 0.9506\n",
      "Loss: 0.2594684435034454\n"
     ]
    },
    {
     "name": "stderr",
     "output_type": "stream",
     "text": [
      "100%|█████████████████████████████████████████████████████████████████████████████████| 53/53 [00:00<00:00, 103.07it/s]\n"
     ]
    },
    {
     "name": "stdout",
     "output_type": "stream",
     "text": [
      "Epoch 1\n",
      "Train accuracy: 0.9603090909090909\n",
      "Val accuracy: 0.9648\n",
      "Loss: 0.1489391232637443\n"
     ]
    },
    {
     "name": "stderr",
     "output_type": "stream",
     "text": [
      "100%|█████████████████████████████████████████████████████████████████████████████████| 53/53 [00:00<00:00, 107.14it/s]\n"
     ]
    },
    {
     "name": "stdout",
     "output_type": "stream",
     "text": [
      "Epoch 2\n",
      "Train accuracy: 0.9726363636363636\n",
      "Val accuracy: 0.9734\n",
      "Loss: 0.11866147868440685\n"
     ]
    },
    {
     "name": "stderr",
     "output_type": "stream",
     "text": [
      "100%|█████████████████████████████████████████████████████████████████████████████████| 53/53 [00:00<00:00, 102.09it/s]\n"
     ]
    },
    {
     "name": "stdout",
     "output_type": "stream",
     "text": [
      "Epoch 3\n",
      "Train accuracy: 0.9765636363636364\n",
      "Val accuracy: 0.9688\n",
      "Loss: 0.08551442696803291\n"
     ]
    },
    {
     "name": "stderr",
     "output_type": "stream",
     "text": [
      "100%|█████████████████████████████████████████████████████████████████████████████████| 53/53 [00:00<00:00, 104.30it/s]\n"
     ]
    },
    {
     "name": "stdout",
     "output_type": "stream",
     "text": [
      "Epoch 4\n",
      "Train accuracy: 0.9808363636363636\n",
      "Val accuracy: 0.9738\n",
      "Loss: 0.10323833338525393\n"
     ]
    },
    {
     "name": "stderr",
     "output_type": "stream",
     "text": [
      "100%|██████████████████████████████████████████████████████████████████████████████████| 53/53 [00:00<00:00, 99.86it/s]\n"
     ]
    },
    {
     "name": "stdout",
     "output_type": "stream",
     "text": [
      "Epoch 5\n",
      "Train accuracy: 0.9830545454545454\n",
      "Val accuracy: 0.9702\n",
      "Loss: 0.07654985269785781\n"
     ]
    },
    {
     "name": "stderr",
     "output_type": "stream",
     "text": [
      "100%|█████████████████████████████████████████████████████████████████████████████████| 53/53 [00:00<00:00, 101.84it/s]\n"
     ]
    },
    {
     "name": "stdout",
     "output_type": "stream",
     "text": [
      "Epoch 6\n",
      "Train accuracy: 0.9871454545454545\n",
      "Val accuracy: 0.9756\n",
      "Loss: 0.050304746010344806\n"
     ]
    },
    {
     "name": "stderr",
     "output_type": "stream",
     "text": [
      "100%|█████████████████████████████████████████████████████████████████████████████████| 53/53 [00:00<00:00, 101.53it/s]\n"
     ]
    },
    {
     "name": "stdout",
     "output_type": "stream",
     "text": [
      "Epoch 7\n",
      "Train accuracy: 0.9887636363636364\n",
      "Val accuracy: 0.976\n",
      "Loss: 0.06727045289052427\n"
     ]
    },
    {
     "name": "stderr",
     "output_type": "stream",
     "text": [
      "100%|█████████████████████████████████████████████████████████████████████████████████| 53/53 [00:00<00:00, 100.73it/s]\n"
     ]
    },
    {
     "name": "stdout",
     "output_type": "stream",
     "text": [
      "Epoch 8\n",
      "Train accuracy: 0.9915454545454545\n",
      "Val accuracy: 0.9752\n",
      "Loss: 0.028070212203288942\n"
     ]
    },
    {
     "name": "stderr",
     "output_type": "stream",
     "text": [
      "100%|█████████████████████████████████████████████████████████████████████████████████| 53/53 [00:00<00:00, 100.87it/s]\n"
     ]
    },
    {
     "name": "stdout",
     "output_type": "stream",
     "text": [
      "Epoch 9\n",
      "Train accuracy: 0.9930727272727272\n",
      "Val accuracy: 0.9744\n",
      "Loss: 0.04085191017289014\n",
      "Took 6.522765 s\n"
     ]
    },
    {
     "data": {
      "image/png": "[encoded data removed]",
      "text/plain": [
       "<Figure size 432x288 with 1 Axes>"
      ]
     },
     "metadata": {
      "needs_background": "light"
     },
     "output_type": "display_data"
    },
    {
     "name": "stdout",
     "output_type": "stream",
     "text": [
      "Test accuracy: 97.33000000000001 %\n"
     ]
    }
   ],
   "source": [
    "# Mini-batch size = 1024\n",
    "\n",
    "network = []\n",
    "network.append(hw1.Dense(X_train.shape[1],100))\n",
    "network.append(hw1.ReLU())\n",
    "network.append(hw1.Dense(100,10))\n",
    "\n",
    "train_log = []\n",
    "val_log = []\n",
    "loss_log = []\n",
    "\n",
    "t = 0\n",
    "\n",
    "start = time.time()\n",
    "\n",
    "for epoch in range(10):\n",
    "\n",
    "    for x_batch,y_batch in iterate_minibatches(X_train,y_train,batchsize=1024,shuffle=True):\n",
    "        \n",
    "        t += 1\n",
    "        \n",
    "        loss = train(network,x_batch,y_batch,t)\n",
    "    \n",
    "    train_log.append(np.mean(predict(network,X_train)==y_train))\n",
    "    val_log.append(np.mean(predict(network,X_val)==y_val))\n",
    "    loss_log.append(loss)\n",
    "    \n",
    "    #clear_output()\n",
    "    print(\"Epoch\",epoch)\n",
    "    print(\"Train accuracy:\",train_log[-1])\n",
    "    print(\"Val accuracy:\",val_log[-1])\n",
    "    print(\"Loss:\",loss_log[-1])\n",
    "    \n",
    "end = time.time()\n",
    "print(\"Took %f s\" % ((end - start)))\n",
    "\n",
    "plt.plot(loss_log,label='Loss')\n",
    "#plt.plot(val_log,label='val accuracy')\n",
    "plt.legend(loc='best')\n",
    "plt.grid()\n",
    "plt.show()    \n",
    "test_accuracy = np.mean(predict(network,X_test)==y_test) * 100\n",
    "print(\"Test accuracy:\",test_accuracy, \"%\")"
   ]
  }
 ],
 "metadata": {
  "kernelspec": {
   "display_name": "Python 3",
   "language": "python",
   "name": "python3"
  },
  "language_info": {
   "codemirror_mode": {
    "name": "ipython",
    "version": 3
   },
   "file_extension": ".py",
   "mimetype": "text/x-python",
   "name": "python",
   "nbconvert_exporter": "python",
   "pygments_lexer": "ipython3",
   "version": "3.7.1"
  }
 },
 "nbformat": 4,
 "nbformat_minor": 2
}
